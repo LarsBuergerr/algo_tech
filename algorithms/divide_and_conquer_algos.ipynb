{
 "cells": [
  {
   "cell_type": "markdown",
   "id": "160c55cd",
   "metadata": {},
   "source": [
    "Collection of implemented Algorithms for the Lecture Algorithm Techniques SS25 HTWG Konstanz"
   ]
  },
  {
   "attachments": {
    "image.png": {
     "image/png": "[encoded data removed]"
    }
   },
   "cell_type": "markdown",
   "id": "d0d3076b",
   "metadata": {},
   "source": [
    "![image.png](attachment:image.png)"
   ]
  },
  {
   "cell_type": "markdown",
   "id": "36b09a84",
   "metadata": {},
   "source": [
    "# Binary representation\n",
    "\n",
    "Represent a number in its binary form\n",
    "\n",
    "a = 1\n",
    "b = 2\n",
    "\n",
    "f(n) = O(1)\n",
    "\n"
   ]
  },
  {
   "cell_type": "code",
   "execution_count": null,
   "id": "6b9d541c",
   "metadata": {},
   "outputs": [
    {
     "name": "stdout",
     "output_type": "stream",
     "text": [
      "1000"
     ]
    }
   ],
   "source": [
    "def binary(n):\n",
    "  if (n > 0):\n",
    "    binary(int(n // 2)) \n",
    "    print(n % 2, end=\"\")\n",
    "\n",
    "binary(8)"
   ]
  },
  {
   "cell_type": "markdown",
   "id": "95806325",
   "metadata": {},
   "source": [
    "# Anzahl der nicht negativen elemente eines arrays\n",
    "\n",
    "Divide and conquer Ansatz zum zaehlen aller nicht negativen Elemente einer Liste.\n",
    "\n",
    "a = 2\n",
    "b = 2\n",
    "\n",
    "logb(a) log2(2) = 1\n",
    "alpha = 1\n",
    "\n",
    "f(n) = O(1)\n",
    "\n"
   ]
  },
  {
   "cell_type": "code",
   "execution_count": null,
   "id": "083058e3",
   "metadata": {},
   "outputs": [
    {
     "name": "stdout",
     "output_type": "stream",
     "text": [
      "5\n"
     ]
    }
   ],
   "source": [
    "n = [-3, 0, 5, -1, 4, 2, -6, 7]\n",
    "\n",
    "\n",
    "def non_negative(n, left, right):\n",
    "  \n",
    "  if (right - left) > 0:\n",
    "    m = int((right + left) / 2) # divide\n",
    "    return non_negative(n, left, m) + non_negative(n, m + 1, right) # conquer\n",
    "\n",
    "  return 0 if n[left] > 0 else 1 # base case\n",
    "\n",
    "res = non_negative(n, 0, len(n) - 1)\n",
    "print(res)\n"
   ]
  },
  {
   "cell_type": "markdown",
   "id": "d3819f70",
   "metadata": {},
   "source": [
    "# Binary Search\n",
    "\n",
    "Suche ein Element in einer sortierten Liste\n",
    "\n",
    "a = 1\n",
    "b = 2\n",
    "\n",
    "logb(a) = log2(1) = 0 = O(n^0) = 0\n",
    "\n",
    "f(n) = O(1)\n",
    "\n",
    "O(1) <= O(n^alpha - epsilon)\n",
    "\n",
    "Fall 1: O(1) * logn = O(log(n))"
   ]
  },
  {
   "cell_type": "code",
   "execution_count": null,
   "id": "f316283b",
   "metadata": {},
   "outputs": [
    {
     "name": "stdout",
     "output_type": "stream",
     "text": [
      "6\n"
     ]
    }
   ],
   "source": [
    "n = [1, 4, 7, 10, 13, 17, 20]\n",
    "\n",
    "\n",
    "def binary_search(elem, n, left, right):\n",
    "  m = (left + right) // 2\n",
    "\n",
    "  if n[m] == elem: return m\n",
    "  \n",
    "  if right - left >= 0:\n",
    "    if n[m] > elem:\n",
    "      return binary_search(elem, n, left, m - 1)\n",
    "    return binary_search(elem, n, m + 1, right)\n",
    "  \n",
    "  return None\n",
    "\n",
    "res = binary_search(20, n, 0, len(n) - 1)\n",
    "print(res)\n",
    "  \n",
    "\n",
    "\n",
    "\n"
   ]
  },
  {
   "cell_type": "markdown",
   "id": "d2120796",
   "metadata": {},
   "source": [
    "# Merge Sort\n",
    "\n",
    "ist klar was gemeint ist"
   ]
  },
  {
   "cell_type": "code",
   "execution_count": 1,
   "id": "152b79da",
   "metadata": {},
   "outputs": [
    {
     "name": "stdout",
     "output_type": "stream",
     "text": [
      "['A', 'A', 'E', 'E', 'G', 'I', 'L', 'M', 'N', 'O', 'P', 'R', 'S', 'T', 'X']\n"
     ]
    }
   ],
   "source": [
    "import copy\n",
    "\n",
    "n = [\"A\", \"S\", \"O\", \"R\", \"T\", \"I\", \"N\", \"G\", \"E\", \"X\", \"A\", \"M\", \"P\", \"L\", \"E\"]\n",
    "\n",
    "def merge(n, l, r):\n",
    "  tmp = []\n",
    "\n",
    "  m = (l + r) // 2\n",
    "  l_p = l\n",
    "  r_p = m + 1\n",
    "\n",
    "  while l_p <= m and r_p <= r:\n",
    "    if n[l_p] > n[r_p]:\n",
    "      tmp.append(n[r_p])\n",
    "      r_p+=1\n",
    "    else:\n",
    "      tmp.append(n[l_p])\n",
    "      l_p+=1\n",
    "  \n",
    "  while l_p <= m:\n",
    "    tmp.append(n[l_p])\n",
    "    l_p+=1\n",
    "  while r_p <= r:\n",
    "    tmp.append(n[r_p])\n",
    "    r_p+=1\n",
    "  \n",
    "  for i in range(len(tmp)):\n",
    "    n[l + i] = tmp[i]\n",
    "      \n",
    "\n",
    "def merge_sort(n, left, right):\n",
    "  if (left >= right):\n",
    "    return\n",
    "  m = (left + right) // 2\n",
    "\n",
    "  merge_sort(n, left, m)\n",
    "  merge_sort(n, m + 1, right)\n",
    "  merge(n, left, right)\n",
    "  \n",
    "\n",
    "merge_sort(n, 0, len(n) - 1)\n",
    "print(n)\n",
    "\n"
   ]
  },
  {
   "cell_type": "markdown",
   "id": "9119ed8c",
   "metadata": {},
   "source": [
    "# Maximum Sum Subarray Divide and Conquer Approach"
   ]
  },
  {
   "cell_type": "code",
   "execution_count": 17,
   "id": "2a63a806",
   "metadata": {},
   "outputs": [
    {
     "name": "stdout",
     "output_type": "stream",
     "text": [
      "6\n",
      "left = 0 right = 6 m = 3\n",
      "3\n",
      "left = 0 right = 3 m = 1\n",
      "1\n",
      "left = 0 right = 1 m = 0\n",
      "returning 10\n",
      "1\n",
      "left = 2 right = 3 m = 2\n",
      "returning 3\n",
      "lo = -4\n",
      "ro = 3\n",
      "left pointer = 1\n",
      "right pointer = 2\n",
      "left max = 10\n",
      "right max = 3\n",
      "lo = 6\n",
      "ro = 3\n",
      "om = 9\n",
      "returnning max of = 10\n",
      "2\n",
      "left = 4 right = 6 m = 5\n",
      "1\n",
      "left = 4 right = 5 m = 4\n",
      "returning 2\n",
      "0\n",
      "left = 6 right = 6 m = 6\n",
      "returning 10\n",
      "lo = -2\n",
      "ro = 10\n",
      "left pointer = 5\n",
      "right pointer = 6\n",
      "left max = 2\n",
      "right max = 10\n",
      "lo = 0\n",
      "ro = 10\n",
      "om = 10\n",
      "returnning max of = 10\n",
      "lo = -1\n",
      "ro = 2\n",
      "left pointer = 3\n",
      "right pointer = 4\n",
      "left max = 10\n",
      "right max = 10\n",
      "lo = 2\n",
      "ro = 2\n",
      "om = 4\n",
      "returnning max of = 10\n"
     ]
    },
    {
     "data": {
      "text/plain": [
       "10"
      ]
     },
     "execution_count": 17,
     "metadata": {},
     "output_type": "execute_result"
    }
   ],
   "source": [
    "\n",
    "\n",
    "\n",
    "def maxSum(n, left, right):\n",
    "\n",
    "  m = (left + right) // 2\n",
    "  lp = m\n",
    "  rp = m + 1\n",
    "\n",
    "  print(right - left)\n",
    "  print(f\"left = {left} right = {right} m = {m}\")\n",
    "\n",
    "\n",
    "  if right - left < 2:\n",
    "    print(f\"returning {n[left]}\")\n",
    "    return n[left]\n",
    "  \n",
    "\n",
    "  lm = maxSum(n, left, m)\n",
    "  rm = maxSum(n, m + 1, right)\n",
    "\n",
    "  lo = n[lp]\n",
    "  ro = n[rp]\n",
    "\n",
    "  print(f'lo = {lo}')\n",
    "  print(f'ro = {ro}')\n",
    "\n",
    "  print(f\"left pointer = {lp}\")\n",
    "  print(f\"right pointer = {rp}\")\n",
    "\n",
    "  print(f\"left max = {lm}\")\n",
    "  print(f\"right max = {rm}\")\n",
    "\n",
    "  while lp > left and (lo + n[lp - 1] > lo):\n",
    "    lp -= 1\n",
    "    lo = lo + n[lp]\n",
    "  \n",
    "  while rp < right and (ro + n[rp + 1] > ro):\n",
    "    rp += 1\n",
    "    ro = ro + n[rp]\n",
    "  \n",
    "  om = lo + ro\n",
    "\n",
    "  print(f'lo = {lo}')\n",
    "  print(f'ro = {ro}')\n",
    "  print(f'om = {om}')\n",
    "\n",
    "  print(f\"returnning max of = {max([lm, rm, om])}\")\n",
    "  return max([lm, rm, om])\n",
    "\n",
    "\n",
    "n = [10,-4,3,-1,2,-2, 10]\n",
    "\n",
    "maxSum(n, 0, len(n) - 1)\n"
   ]
  }
 ],
 "metadata": {
  "kernelspec": {
   "display_name": "Python 3",
   "language": "python",
   "name": "python3"
  },
  "language_info": {
   "codemirror_mode": {
    "name": "ipython",
    "version": 3
   },
   "file_extension": ".py",
   "mimetype": "text/x-python",
   "name": "python",
   "nbconvert_exporter": "python",
   "pygments_lexer": "ipython3",
   "version": "3.13.5"
  }
 },
 "nbformat": 4,
 "nbformat_minor": 5
}
