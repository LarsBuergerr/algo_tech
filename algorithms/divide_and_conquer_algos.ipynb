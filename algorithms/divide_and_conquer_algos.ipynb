{
  "cells": [
    {
      "cell_type": "markdown",
      "id": "160c55cd",
      "metadata": {},
      "source": [
        "Collection of implemented Algorithms for the Lecture Algorithm Techniques SS25 HTWG Konstanz"
      ]
    },
    {
      "attachments": {
        "image.png": {
          "image/png": "[encoded data removed]"
        }
      },
      "cell_type": "markdown",
      "id": "d0d3076b",
      "metadata": {},
      "source": [
        "![image.png](attachment:image.png)"
      ]
    },
    {
      "cell_type": "markdown",
      "id": "36b09a84",
      "metadata": {},
      "source": [
        "# Binary representation\n",
        "\n",
        "Represent a number in its binary form\n",
        "\n",
        "a = 1\n",
        "b = 2\n",
        "\n",
        "f(n) = O(1)\n",
        "\n"
      ]
    },
    {
      "cell_type": "code",
      "execution_count": null,
      "id": "6b9d541c",
      "metadata": {},
      "outputs": [
        {
          "name": "stdout",
          "output_type": "stream",
          "text": [
            "1000"
          ]
        }
      ],
      "source": [
        "def binary(n):\n",
        "  if (n > 0):\n",
        "    binary(int(n // 2)) \n",
        "    print(n % 2, end=\"\")\n",
        "\n",
        "binary(8)"
      ]
    },
    {
      "cell_type": "markdown",
      "id": "95806325",
      "metadata": {},
      "source": [
        "# Anzahl der nicht negativen elemente eines arrays\n",
        "\n",
        "Divide and conquer Ansatz zum zaehlen aller nicht negativen Elemente einer Liste.\n",
        "\n",
        "a = 2\n",
        "b = 2\n",
        "\n",
        "logb(a) log2(2) = 1\n",
        "alpha = 1\n",
        "\n",
        "f(n) = O(1)\n",
        "\n"
      ]
    },
    {
      "cell_type": "code",
      "execution_count": null,
      "id": "083058e3",
      "metadata": {},
      "outputs": [
        {
          "name": "stdout",
          "output_type": "stream",
          "text": [
            "5\n"
          ]
        }
      ],
      "source": [
        "n = [-3, 0, 5, -1, 4, 2, -6, 7]\n",
        "\n",
        "\n",
        "def non_negative(n, left, right):\n",
        "  \n",
        "  if (right - left) > 0:\n",
        "    m = int((right + left) / 2) # divide\n",
        "    return non_negative(n, left, m) + non_negative(n, m + 1, right) # conquer\n",
        "\n",
        "  return 0 if n[left] > 0 else 1 # base case\n",
        "\n",
        "res = non_negative(n, 0, len(n) - 1)\n",
        "print(res)\n"
      ]
    },
    {
      "cell_type": "markdown",
      "id": "d3819f70",
      "metadata": {},
      "source": [
        "# Binary Search\n",
        "\n",
        "Suche ein Element in einer sortierten Liste\n",
        "\n",
        "a = 1\n",
        "b = 2\n",
        "\n",
        "logb(a) = log2(1) = 0 = O(n^0) = 0\n",
        "\n",
        "f(n) = O(1)\n",
        "\n",
        "O(1) <= O(n^alpha - epsilon)\n",
        "\n",
        "Fall 1: O(1) * logn = O(log(n))"
      ]
    },
    {
      "cell_type": "code",
      "execution_count": null,
      "id": "f316283b",
      "metadata": {},
      "outputs": [
        {
          "name": "stdout",
          "output_type": "stream",
          "text": [
            "6\n"
          ]
        }
      ],
      "source": [
        "n = [1, 4, 7, 10, 13, 17, 20]\n",
        "\n",
        "\n",
        "def binary_search(elem, n, left, right):\n",
        "  m = (left + right) // 2\n",
        "\n",
        "  if n[m] == elem: return m\n",
        "  \n",
        "  if right - left >= 0:\n",
        "    if n[m] > elem:\n",
        "      return binary_search(elem, n, left, m - 1)\n",
        "    return binary_search(elem, n, m + 1, right)\n",
        "  \n",
        "  return None\n",
        "\n",
        "res = binary_search(20, n, 0, len(n) - 1)\n",
        "print(res)\n",
        "  \n",
        "\n",
        "\n",
        "\n"
      ]
    },
    {
      "cell_type": "markdown",
      "id": "d2120796",
      "metadata": {},
      "source": [
        "# Merge Sort\n",
        "\n",
        "ist klar was gemeint ist\n",
        "\n",
        "\n",
        "Laufzeit:\n",
        "\n",
        "a = 2\n",
        "b = 2\n",
        "alpha = log2(2) = 1  -> n^1 -> O(n)\n",
        "\n",
        "f(n) = O(n)\n",
        "\n",
        "Fall 2: O(n log(n))"
      ]
    },
    {
      "cell_type": "code",
      "execution_count": 10,
      "id": "152b79da",
      "metadata": {},
      "outputs": [
        {
          "name": "stdout",
          "output_type": "stream",
          "text": [
            "14\n",
            "['A', 'A', 'E', 'E', 'G', 'I', 'L', 'M', 'N', 'O', 'P', 'R', 'S', 'T', 'X']\n"
          ]
        }
      ],
      "source": [
        "import copy\n",
        "\n",
        "n = [\"A\", \"S\", \"O\", \"R\", \"T\", \"I\", \"N\", \"G\", \"E\", \"X\", \"A\", \"M\", \"P\", \"L\", \"E\"]\n",
        "n2 = [6,3,8,2,7,4,1]\n",
        "\n",
        "def merge(n, l, r):\n",
        "  tmp = []\n",
        "  inversion_count = 0\n",
        "\n",
        "  m = (l + r) // 2\n",
        "  l_p = l\n",
        "  r_p = m + 1\n",
        "\n",
        "  while l_p <= m and r_p <= r:\n",
        "    if n[l_p] > n[r_p]:\n",
        "      inversion_count += (m - l_p + 1)\n",
        "      tmp.append(n[r_p])\n",
        "      r_p+=1\n",
        "    else:\n",
        "      tmp.append(n[l_p])\n",
        "      l_p+=1\n",
        "  \n",
        "  while l_p <= m:\n",
        "    tmp.append(n[l_p])\n",
        "    l_p+=1\n",
        "  while r_p <= r:\n",
        "    tmp.append(n[r_p])\n",
        "    r_p+=1\n",
        "  \n",
        "  for i in range(len(tmp)):\n",
        "    n[l + i] = tmp[i]\n",
        "\n",
        "  return inversion_count\n",
        "      \n",
        "\n",
        "def merge_sort(n, left, right):\n",
        "  if (left >= right):\n",
        "    return 0\n",
        "  m = (left + right) // 2\n",
        "\n",
        "  invl = merge_sort(n, left, m)\n",
        "  invr = merge_sort(n, m + 1, right)\n",
        "  return invl + invr + merge(n, left, right)\n",
        "  \n",
        "\n",
        "inversions = merge_sort(n2, 0, len(n2) - 1)\n",
        "print(inversions)\n",
        "\n"
      ]
    },
    {
      "cell_type": "markdown",
      "id": "24f4f3b7",
      "metadata": {},
      "source": [
        "# Quicksort\n",
        "\n",
        "Laufzeit:\n",
        "\n",
        "a = 2\n",
        "b = 2\n",
        "\n",
        "log2(2) = 1   n^1 -> O(n)\n",
        "\n",
        "\n",
        "f(n) = O(n)\n",
        "\n",
        "Fall 2: O(n*log(n))"
      ]
    },
    {
      "cell_type": "code",
      "execution_count": null,
      "id": "08be1609",
      "metadata": {},
      "outputs": [
        {
          "name": "stdout",
          "output_type": "stream",
          "text": [
            "[1, 1, 3, 3, 4, 5, 7, 8, 8, 10]\n"
          ]
        }
      ],
      "source": [
        "n = [4, 7, 1, 3, 3, 8, 5, 10, 1, 8]\n",
        "\n",
        "\n",
        "def quick_sort(n, left, right):\n",
        "\n",
        "  if right - left < 1:\n",
        "    return n\n",
        "\n",
        "  pivot = n[right]\n",
        "  i = left - 1\n",
        "  \n",
        "  for j in range(left, right):\n",
        "    if n[j] <= pivot:\n",
        "      i+=1\n",
        "      n[i], n[j] = n[j], n[i]\n",
        "\n",
        "  n[i + 1], n[right] = n[right], n[i + 1]\n",
        "\n",
        "  quick_sort(n, left, i) # use i (new pivot index as right bound)\n",
        "  quick_sort(n, i + 2, right) # use i + 2 as left bound  \n",
        "\n",
        "quick_sort(n, 0, len(n) - 1)\n",
        "print(n)\n",
        "\n"
      ]
    },
    {
      "cell_type": "markdown",
      "id": "8762cc7b",
      "metadata": {},
      "source": [
        "# Zaehlen der Swaps in einer unsortierten Liste mit Hilfe von Merge Sort"
      ]
    },
    {
      "cell_type": "code",
      "execution_count": null,
      "id": "3a4da02c",
      "metadata": {},
      "outputs": [],
      "source": [
        "import copy\n",
        "\n",
        "n = [\"A\", \"S\", \"O\", \"R\", \"T\", \"I\", \"N\", \"G\", \"E\", \"X\", \"A\", \"M\", \"P\", \"L\", \"E\"]\n",
        "\n",
        "def merge(n, l, r):\n",
        "  tmp = []\n",
        "\n",
        "  m = (l + r) // 2\n",
        "  l_p = l\n",
        "  r_p = m + 1\n",
        "\n",
        "  while l_p <= m and r_p <= r:\n",
        "    if n[l_p] > n[r_p]:\n",
        "      tmp.append(n[r_p])\n",
        "      r_p+=1\n",
        "    else:\n",
        "      tmp.append(n[l_p])\n",
        "      l_p+=1\n",
        "  \n",
        "  while l_p <= m:\n",
        "    tmp.append(n[l_p])\n",
        "    l_p+=1\n",
        "  while r_p <= r:\n",
        "    tmp.append(n[r_p])\n",
        "    r_p+=1\n",
        "  \n",
        "  for i in range(len(tmp)):\n",
        "    n[l + i] = tmp[i]\n",
        "      \n",
        "\n",
        "def merge_sort(n, left, right):\n",
        "  if (left >= right):\n",
        "    return\n",
        "  m = (left + right) // 2\n",
        "\n",
        "  merge_sort(n, left, m)\n",
        "  merge_sort(n, m + 1, right)\n",
        "  merge(n, left, right)\n",
        "  \n",
        "\n",
        "merge_sort(n, 0, len(n) - 1)\n",
        "print(n)\n",
        "\n"
      ]
    },
    {
      "attachments": {
        "image.png": {
          "image/png": "[encoded data removed]"
        }
      },
      "cell_type": "markdown",
      "id": "ae49ecc1",
      "metadata": {},
      "source": [
        "# ggT Divide and Conquer\n",
        "\n",
        "\n",
        "Laufzeit O(log(b))\n",
        "\n",
        "![image.png](attachment:image.png)"
      ]
    },
    {
      "cell_type": "code",
      "execution_count": null,
      "id": "05bee5fe",
      "metadata": {},
      "outputs": [],
      "source": [
        "\n",
        "def ggT(n1, n2):\n",
        "  if n1 == 0: return n2\n",
        "  if n2 == 0: return n1\n",
        "\n",
        "  if n1 >= n2:\n",
        "    return ggT(n2, n1 % n2)\n",
        "  return ggT(n1, n2 % n1)\n",
        "\n",
        "\n",
        "res = ggT(48, 18)\n",
        "print(res)"
      ]
    },
    {
      "cell_type": "markdown",
      "id": "0198cf25",
      "metadata": {},
      "source": [
        "# Max Sum sub array divide and conquer approach"
      ]
    },
    {
      "cell_type": "code",
      "execution_count": 3,
      "id": "2a63a806",
      "metadata": {},
      "outputs": [
        {
          "data": {
            "text/plain": [
              "18"
            ]
          },
          "execution_count": 3,
          "metadata": {},
          "output_type": "execute_result"
        }
      ],
      "source": [
        "\n",
        "\n",
        "def maxSum(n, left, right):\n",
        "\n",
        "  m = (left + right) // 2\n",
        "  lp = m\n",
        "  rp = m + 1\n",
        "\n",
        "  if right - left < 2:\n",
        "    return n[left]\n",
        "  \n",
        "\n",
        "  lm = maxSum(n, left, m)\n",
        "  rm = maxSum(n, m + 1, right)\n",
        "\n",
        "  lo = n[lp]\n",
        "  ro = n[rp]\n",
        "\n",
        "  max_lo = lo\n",
        "  max_ro = ro\n",
        "\n",
        "  while lp > left:\n",
        "    lp -= 1\n",
        "    if lo + n[lp] > max_lo:\n",
        "      max_lo = lo + n[lp]\n",
        "    lo = lo + n[lp]\n",
        "  \n",
        "  while rp < right:\n",
        "    rp += 1\n",
        "    if ro + n[rp] > max_ro:\n",
        "      max_ro = ro + n[rp]\n",
        "    ro = ro + n[rp]\n",
        "  om = max_lo + max_ro\n",
        "  return max([lm, rm, om])\n",
        "\n",
        "\n",
        "n = [10,-4,3,-1,2,-2, 10]\n",
        "\n",
        "maxSum(n, 0, len(n) - 1)\n"
      ]
    },
    {
      "cell_type": "markdown",
      "id": "36cf0a4e",
      "metadata": {},
      "source": [
        "# Inverse Potenzen berechnen"
      ]
    },
    {
      "cell_type": "code",
      "execution_count": 7,
      "id": "93168cb4",
      "metadata": {},
      "outputs": [
        {
          "data": {
            "text/plain": [
              "0.0625"
            ]
          },
          "execution_count": 7,
          "metadata": {},
          "output_type": "execute_result"
        }
      ],
      "source": [
        "\n",
        "\n",
        "def inv_pot(n, y):\n",
        "\n",
        "  if n == 1:\n",
        "    return 1 / y\n",
        "  \n",
        "  s = int(n / 2)\n",
        "  return inv_pot(s, y) * inv_pot(n - s, y)\n",
        "\n",
        "inv_pot(4, 2)\n"
      ]
    }
  ],
  "metadata": {
    "kernelspec": {
      "display_name": "Python 3",
      "language": "python",
      "name": "python3"
    },
    "language_info": {
      "codemirror_mode": {
        "name": "ipython",
        "version": 3
      },
      "file_extension": ".py",
      "mimetype": "text/x-python",
      "name": "python",
      "nbconvert_exporter": "python",
      "pygments_lexer": "ipython3",
      "version": "3.13.3"
    }
  },
  "nbformat": 4,
  "nbformat_minor": 5
}
