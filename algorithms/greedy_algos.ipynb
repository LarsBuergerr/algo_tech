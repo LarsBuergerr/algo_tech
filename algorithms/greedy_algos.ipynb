{
 "cells": [
  {
   "cell_type": "markdown",
   "id": "d8d70232",
   "metadata": {},
   "source": [
    "# Collection of implemented Greedy Algorithms for the lecture Algorithm techniques SS25 HTWG Konstanz"
   ]
  },
  {
   "cell_type": "markdown",
   "id": "4b441299",
   "metadata": {},
   "source": [
    "# A* Algorithm\n",
    "\n",
    "The A* algorithm uses a heuristik to determine the best way to move through a graph from a starting point to an endpoint."
   ]
  },
  {
   "cell_type": "code",
   "execution_count": null,
   "id": "72985cd0",
   "metadata": {},
   "outputs": [
    {
     "name": "stdout",
     "output_type": "stream",
     "text": [
      "[('A', 0), ('B', 6), ('E', 6), ('F', 6)]\n"
     ]
    }
   ],
   "source": [
    "heuristic = {\n",
    "    \"A\": 6, \n",
    "    \"B\": 4,\n",
    "    \"C\": 6,\n",
    "    \"D\": 5,\n",
    "    \"E\": 2,\n",
    "    \"F\": 0\n",
    "}\n",
    "\n",
    "\n",
    "graph = {\n",
    "    \"A\": [(\"B\", 2), (\"C\", 4)],\n",
    "    \"B\": [(\"D\", 3), (\"E\", 2)],\n",
    "    \"C\": [(\"D\", 1)],\n",
    "    \"D\": [(\"F\", 5)],\n",
    "    \"E\": [(\"F\", 2)],\n",
    "    \"F\": []\n",
    "}\n",
    "\n",
    "def pop_best(list):\n",
    "   \n",
    "  best = sorted(list, key=lambda x: x[1])[0]\n",
    "  list.remove(best)\n",
    "\n",
    "  return best\n",
    "      \n",
    "\n",
    "def a_star(priority_list=[('A', 0)], visited=[], curr_cost=0,start_node='A', end_node='F', optimal=[]):\n",
    "\n",
    "\n",
    "    while (priority_list):\n",
    "\n",
    "      best = pop_best(priority_list)\n",
    "      visited.append(best[0])\n",
    "      optimal.append(best)\n",
    "\n",
    "      if best[0] == end_node: return optimal\n",
    "\n",
    "      current = 0 if best[0] == start_node else best[1] - heuristic[best[0]]\n",
    "      for child in graph[best[0]]:\n",
    "        if child[0] in visited:\n",
    "           continue\n",
    "\n",
    "        way_cost = current + child[1]\n",
    "        estimated = way_cost + heuristic[child[0]]\n",
    "        priority_list.append((child[0], estimated))\n",
    "\n",
    "best_path = a_star()\n",
    "print(best_path)\n"
   ]
  },
  {
   "cell_type": "markdown",
   "id": "73706ef4",
   "metadata": {},
   "source": [
    "# Greedy optimal activity selection algorithm"
   ]
  },
  {
   "cell_type": "code",
   "execution_count": 55,
   "id": "5c7ba000",
   "metadata": {},
   "outputs": [
    {
     "name": "stdout",
     "output_type": "stream",
     "text": [
      "[('A12', 0, 3), ('A3', 3, 5), ('A4', 5, 7), ('A5', 8, 9), ('A14', 9, 10), ('A15', 11, 12), ('A10', 12, 14)]\n"
     ]
    }
   ],
   "source": [
    "activities = [\n",
    "    (\"A1\", 0, 6),\n",
    "    (\"A2\", 1, 4),\n",
    "    (\"A3\", 3, 5),\n",
    "    (\"A4\", 5, 7),\n",
    "    (\"A5\", 8, 9),\n",
    "    (\"A6\", 5, 9),\n",
    "    (\"A7\", 2, 13),\n",
    "    (\"A8\", 6, 10),\n",
    "    (\"A9\", 8, 11),\n",
    "    (\"A10\", 12, 14),\n",
    "    (\"A11\", 13, 16),\n",
    "    (\"A12\", 0, 3),\n",
    "    (\"A13\", 4, 5),\n",
    "    (\"A14\", 9, 10),\n",
    "    (\"A15\", 11, 12),\n",
    "]\n",
    "\n",
    "\n",
    "\n",
    "def optimal_plan(activities=activities):\n",
    "  activities = sorted(activities, key=lambda x: x[2])\n",
    "  best_activities = []\n",
    "  curr_time = 0\n",
    "  while list(filter(lambda x: x[1] >= curr_time, activities)):\n",
    "    filtered = list(filter(lambda x: x[1] >= curr_time, activities))\n",
    "    best = filtered.pop(0)\n",
    "    best_activities.append(best)\n",
    "    curr_time = best[2]\n",
    "    \n",
    "  return best_activities\n",
    "\n",
    "res = optimal_plan()\n",
    "print(res)"
   ]
  },
  {
   "cell_type": "markdown",
   "id": "fe6c816e",
   "metadata": {},
   "source": [
    "# Approx Bin Packing\n",
    "\n",
    "Ziel ist es eine Menge an Items mit unterschiedlicher groesse in moeglichst wenige pakete zu packen die eine fixe groese haben."
   ]
  },
  {
   "cell_type": "code",
   "execution_count": 66,
   "id": "e53c2e93",
   "metadata": {},
   "outputs": [
    {
     "name": "stdout",
     "output_type": "stream",
     "text": [
      "[[8, 2], [7, 3], [5, 4, 1]]\n"
     ]
    }
   ],
   "source": [
    "packets = [2, 5, 4, 7, 1, 3, 8]\n",
    "bin_capacity = 10\n",
    "\n",
    "def fits(packet, bins):\n",
    "  for bin in bins:\n",
    "    if sum(bin) + packet <= bin_capacity:\n",
    "      return bin\n",
    "    \n",
    "  return None\n",
    "\n",
    "def bin_packing(packets=packets):\n",
    "  \n",
    "  curr_bins = []\n",
    "  packets = sorted(packets, reverse=True) # to sort the array descending the approximation get closer to optimal :)\n",
    "  \n",
    "  while(packets):\n",
    "    packet = packets.pop(0)\n",
    "    \n",
    "    if not curr_bins:\n",
    "      curr_bins.append([packet])\n",
    "    else:\n",
    "      bin = fits(packet, curr_bins)\n",
    "      bin.append(packet) if bin else curr_bins.append([packet])\n",
    "  return curr_bins\n",
    "\n",
    "\n",
    "res = bin_packing()\n",
    "print(res) "
   ]
  },
  {
   "cell_type": "markdown",
   "id": "4db61464",
   "metadata": {},
   "source": [
    "# Kruskal's Greedy Based MST algorithm\n",
    "\n",
    "Ziel ist es einen Minimal spannenden Baum ueber alle Knoten eines Graphen zu bilden.\n"
   ]
  },
  {
   "cell_type": "code",
   "execution_count": 82,
   "id": "9d33cfe0",
   "metadata": {},
   "outputs": [
    {
     "name": "stdout",
     "output_type": "stream",
     "text": [
      "[('G', 'H', 1), ('C', 'I', 2), ('F', 'G', 2), ('A', 'B', 4), ('C', 'F', 4), ('B', 'E', 6), ('C', 'D', 7), ('A', 'H', 8)]\n",
      "34\n"
     ]
    }
   ],
   "source": [
    "edges = [\n",
    "    (\"A\", \"B\", 1),\n",
    "    (\"A\", \"C\", 3),\n",
    "    (\"A\", \"D\", 4),\n",
    "    (\"B\", \"C\", 2),\n",
    "    (\"C\", \"D\", 5),\n",
    "]\n",
    "\n",
    "edges2 = [\n",
    "    (\"A\", \"B\", 4),\n",
    "    (\"A\", \"H\", 8),\n",
    "    (\"B\", \"C\", 8),\n",
    "    (\"B\", \"H\", 11),\n",
    "    (\"C\", \"D\", 7),\n",
    "    (\"C\", \"F\", 4),\n",
    "    (\"C\", \"I\", 2),\n",
    "    (\"D\", \"E\", 9),\n",
    "    (\"D\", \"F\", 14),\n",
    "    (\"E\", \"F\", 10),\n",
    "    (\"F\", \"G\", 2),\n",
    "    (\"G\", \"H\", 1),\n",
    "    (\"G\", \"I\", 6),\n",
    "    (\"H\", \"I\", 7),\n",
    "    (\"B\", \"E\", 6),\n",
    "]\n",
    "\n",
    "sub_trees = [[node] for node in sorted({n for edge in edges2 for n in edge[:2]})]\n",
    "min_tree = []\n",
    "\n",
    "def merge_trees(edge):\n",
    "  t1 = next(filter(lambda x: edge[0] in x,sub_trees))\n",
    "  t2 = next(filter(lambda x: edge[1] in x,sub_trees))\n",
    "\n",
    "  sub_trees.remove(t1)\n",
    "  sub_trees.remove(t2)\n",
    "  sub_trees.append(t1 + t2)\n",
    "\n",
    "def is_cycle(edge, sub_trees):\n",
    "\n",
    "  for tree in sub_trees:\n",
    "    if edge[0] in tree and edge[1] in tree:\n",
    "      return True\n",
    "  return False\n",
    "\n",
    "\n",
    "def mst(edges, min_tree, sub_trees):\n",
    "  edges = sorted(edges, key=lambda x: x[2])\n",
    "  while edges:\n",
    "    min_edge = edges.pop(0)\n",
    "    if is_cycle(min_edge, sub_trees):\n",
    "      continue\n",
    "    min_tree.append(min_edge)\n",
    "    merge_trees(min_edge)\n",
    "\n",
    "  return min_tree\n",
    "\n",
    "res = mst(edges=edges2, min_tree=[], sub_trees=sub_trees)\n",
    "print(res)\n",
    "\n",
    "cost = sum(w for _, _, w in res)\n",
    "print(cost)"
   ]
  }
 ],
 "metadata": {
  "kernelspec": {
   "display_name": "Python 3",
   "language": "python",
   "name": "python3"
  },
  "language_info": {
   "codemirror_mode": {
    "name": "ipython",
    "version": 3
   },
   "file_extension": ".py",
   "mimetype": "text/x-python",
   "name": "python",
   "nbconvert_exporter": "python",
   "pygments_lexer": "ipython3",
   "version": "3.13.3"
  }
 },
 "nbformat": 4,
 "nbformat_minor": 5
}
