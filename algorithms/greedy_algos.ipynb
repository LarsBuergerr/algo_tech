{
 "cells": [
  {
   "cell_type": "markdown",
   "id": "d8d70232",
   "metadata": {},
   "source": [
    "# Collection of implemented Greedy Algorithms for the lecture Algorithm techniques SS25 HTWG Konstanz"
   ]
  },
  {
   "cell_type": "markdown",
   "id": "4b441299",
   "metadata": {},
   "source": [
    "# A* Algorithm\n",
    "\n",
    "The A* algorithm uses a heuristik to determine the best way to move through a graph from a starting point to an endpoint."
   ]
  },
  {
   "cell_type": "code",
   "execution_count": null,
   "id": "72985cd0",
   "metadata": {},
   "outputs": [
    {
     "name": "stdout",
     "output_type": "stream",
     "text": [
      "[('A', 0), ('B', 6), ('E', 6), ('F', 6)]\n"
     ]
    }
   ],
   "source": [
    "heuristic = {\n",
    "    \"A\": 6, \n",
    "    \"B\": 4,\n",
    "    \"C\": 6,\n",
    "    \"D\": 5,\n",
    "    \"E\": 2,\n",
    "    \"F\": 0\n",
    "}\n",
    "\n",
    "\n",
    "graph = {\n",
    "    \"A\": [(\"B\", 2), (\"C\", 4)],\n",
    "    \"B\": [(\"D\", 3), (\"E\", 2)],\n",
    "    \"C\": [(\"D\", 1)],\n",
    "    \"D\": [(\"F\", 5)],\n",
    "    \"E\": [(\"F\", 2)],\n",
    "    \"F\": []\n",
    "}\n",
    "\n",
    "def pop_best(list):\n",
    "   \n",
    "  best = sorted(list, key=lambda x: x[1])[0]\n",
    "  list.remove(best)\n",
    "\n",
    "  return best\n",
    "      \n",
    "\n",
    "def a_star(priority_list=[('A', 0)], visited=[], curr_cost=0,start_node='A', end_node='F', optimal=[]):\n",
    "\n",
    "\n",
    "    while (priority_list):\n",
    "\n",
    "      best = pop_best(priority_list)\n",
    "      visited.append(best[0])\n",
    "      optimal.append(best)\n",
    "\n",
    "      if best[0] == end_node: return optimal\n",
    "\n",
    "      current = 0 if best[0] == start_node else best[1] - heuristic[best[0]]\n",
    "      for child in graph[best[0]]:\n",
    "        if child[0] in visited:\n",
    "           continue\n",
    "\n",
    "        way_cost = current + child[1]\n",
    "        estimated = way_cost + heuristic[child[0]]\n",
    "        priority_list.append((child[0], estimated))\n",
    "\n",
    "best_path = a_star()\n",
    "print(best_path)\n"
   ]
  },
  {
   "cell_type": "markdown",
   "id": "73706ef4",
   "metadata": {},
   "source": [
    "# Greedy optimal activity selection algorithm"
   ]
  },
  {
   "cell_type": "code",
   "execution_count": 55,
   "id": "5c7ba000",
   "metadata": {},
   "outputs": [
    {
     "name": "stdout",
     "output_type": "stream",
     "text": [
      "[('A12', 0, 3), ('A3', 3, 5), ('A4', 5, 7), ('A5', 8, 9), ('A14', 9, 10), ('A15', 11, 12), ('A10', 12, 14)]\n"
     ]
    }
   ],
   "source": [
    "activities = [\n",
    "    (\"A1\", 0, 6),\n",
    "    (\"A2\", 1, 4),\n",
    "    (\"A3\", 3, 5),\n",
    "    (\"A4\", 5, 7),\n",
    "    (\"A5\", 8, 9),\n",
    "    (\"A6\", 5, 9),\n",
    "    (\"A7\", 2, 13),\n",
    "    (\"A8\", 6, 10),\n",
    "    (\"A9\", 8, 11),\n",
    "    (\"A10\", 12, 14),\n",
    "    (\"A11\", 13, 16),\n",
    "    (\"A12\", 0, 3),\n",
    "    (\"A13\", 4, 5),\n",
    "    (\"A14\", 9, 10),\n",
    "    (\"A15\", 11, 12),\n",
    "]\n",
    "\n",
    "\n",
    "\n",
    "def optimal_plan(activities=activities):\n",
    "  activities = sorted(activities, key=lambda x: x[2])\n",
    "  best_activities = []\n",
    "  curr_time = 0\n",
    "  while list(filter(lambda x: x[1] >= curr_time, activities)):\n",
    "    filtered = list(filter(lambda x: x[1] >= curr_time, activities))\n",
    "    best = filtered.pop(0)\n",
    "    best_activities.append(best)\n",
    "    curr_time = best[2]\n",
    "    \n",
    "  return best_activities\n",
    "\n",
    "res = optimal_plan()\n",
    "print(res)"
   ]
  },
  {
   "cell_type": "markdown",
   "id": "fe6c816e",
   "metadata": {},
   "source": [
    "# Approx Bin Packing\n",
    "\n",
    "Ziel ist es eine Menge an Items mit unterschiedlicher groesse in moeglichst wenige pakete zu packen die eine fixe groese haben."
   ]
  },
  {
   "cell_type": "code",
   "execution_count": 66,
   "id": "e53c2e93",
   "metadata": {},
   "outputs": [
    {
     "name": "stdout",
     "output_type": "stream",
     "text": [
      "[[8, 2], [7, 3], [5, 4, 1]]\n"
     ]
    }
   ],
   "source": [
    "packets = [2, 5, 4, 7, 1, 3, 8]\n",
    "bin_capacity = 10\n",
    "\n",
    "def fits(packet, bins):\n",
    "  for bin in bins:\n",
    "    if sum(bin) + packet <= bin_capacity:\n",
    "      return bin\n",
    "    \n",
    "  return None\n",
    "\n",
    "def bin_packing(packets=packets):\n",
    "  \n",
    "  curr_bins = []\n",
    "  packets = sorted(packets, reverse=True) # to sort the array descending the approximation get closer to optimal :)\n",
    "  \n",
    "  while(packets):\n",
    "    packet = packets.pop(0)\n",
    "    \n",
    "    if not curr_bins:\n",
    "      curr_bins.append([packet])\n",
    "    else:\n",
    "      bin = fits(packet, curr_bins)\n",
    "      bin.append(packet) if bin else curr_bins.append([packet])\n",
    "  return curr_bins\n",
    "\n",
    "\n",
    "res = bin_packing()\n",
    "print(res) "
   ]
  },
  {
   "cell_type": "markdown",
   "id": "4db61464",
   "metadata": {},
   "source": [
    "# Kruskal's Greedy Based MST algorithm\n",
    "\n",
    "Ziel ist es einen Minimal spannenden Baum ueber alle Knoten eines Graphen zu bilden.\n"
   ]
  },
  {
   "cell_type": "code",
   "execution_count": 120,
   "id": "9d33cfe0",
   "metadata": {},
   "outputs": [
    {
     "name": "stdout",
     "output_type": "stream",
     "text": [
      "[('G', 'H', 1), ('C', 'I', 2), ('F', 'G', 2), ('A', 'B', 4), ('C', 'F', 4), ('B', 'E', 6), ('C', 'D', 7), ('A', 'H', 8)]\n",
      "34\n"
     ]
    }
   ],
   "source": [
    "edges = [\n",
    "    (\"A\", \"B\", 1),\n",
    "    (\"A\", \"C\", 3),\n",
    "    (\"A\", \"D\", 4),\n",
    "    (\"B\", \"C\", 2),\n",
    "    (\"C\", \"D\", 5),\n",
    "]\n",
    "\n",
    "edges2 = [\n",
    "    (\"A\", \"B\", 4),\n",
    "    (\"A\", \"H\", 8),\n",
    "    (\"B\", \"C\", 8),\n",
    "    (\"B\", \"H\", 11),\n",
    "    (\"C\", \"D\", 7),\n",
    "    (\"C\", \"F\", 4),\n",
    "    (\"C\", \"I\", 2),\n",
    "    (\"D\", \"E\", 9),\n",
    "    (\"D\", \"F\", 14),\n",
    "    (\"E\", \"F\", 10),\n",
    "    (\"F\", \"G\", 2),\n",
    "    (\"G\", \"H\", 1),\n",
    "    (\"G\", \"I\", 6),\n",
    "    (\"H\", \"I\", 7),\n",
    "    (\"B\", \"E\", 6),\n",
    "]\n",
    "\n",
    "def merge_trees(edge, sub_trees):\n",
    "  t1 = next(filter(lambda x: edge[0] in x,sub_trees))\n",
    "  t2 = next(filter(lambda x: edge[1] in x,sub_trees))\n",
    "\n",
    "  sub_trees.remove(t1)\n",
    "  sub_trees.remove(t2)\n",
    "  sub_trees.append(t1 + t2)\n",
    "\n",
    "def is_cycle(edge, sub_trees):\n",
    "\n",
    "  for tree in sub_trees:\n",
    "    if edge[0] in tree and edge[1] in tree:\n",
    "      return True\n",
    "  return False\n",
    "\n",
    "\n",
    "def mst(edges=edges, min_tree=[]):\n",
    "\n",
    "  sub_trees = [[node] for node in sorted({n for edge in edges for n in edge[:2]})]\n",
    "\n",
    "\n",
    "  edges = sorted(edges, key=lambda x: x[2])\n",
    "  while edges:\n",
    "    min_edge = edges.pop(0)\n",
    "    if is_cycle(min_edge, sub_trees):\n",
    "      continue\n",
    "    min_tree.append(min_edge)\n",
    "    merge_trees(min_edge, sub_trees)\n",
    "\n",
    "  return min_tree\n",
    "\n",
    "res = mst(edges=edges2, min_tree=[])\n",
    "print(res)\n",
    "\n",
    "cost = sum(w for _, _, w in res)\n",
    "print(cost)"
   ]
  },
  {
   "cell_type": "markdown",
   "id": "ad75dd4b",
   "metadata": {},
   "source": [
    "# Graph Splitting in k Clusters using MST\n",
    "\n",
    "Ziel ist es einen Graphen in k Cluster zu unterteilen mit minimaler Spannlaenge."
   ]
  },
  {
   "cell_type": "code",
   "execution_count": 125,
   "id": "35e047fc",
   "metadata": {},
   "outputs": [
    {
     "name": "stdout",
     "output_type": "stream",
     "text": [
      "[['D'], ['A', 'B', 'E'], ['C', 'F', 'I', 'G', 'H']]\n"
     ]
    }
   ],
   "source": [
    "import copy\n",
    "\n",
    "edges = [\n",
    "    (\"A\", \"B\", 1),\n",
    "    (\"A\", \"C\", 3),\n",
    "    (\"A\", \"D\", 4),\n",
    "    (\"B\", \"C\", 2),\n",
    "    (\"C\", \"D\", 5),\n",
    "]\n",
    "\n",
    "edges2 = [\n",
    "    (\"A\", \"B\", 4),\n",
    "    (\"A\", \"H\", 8),\n",
    "    (\"B\", \"C\", 8),\n",
    "    (\"B\", \"H\", 11),\n",
    "    (\"C\", \"D\", 7),\n",
    "    (\"C\", \"F\", 4),\n",
    "    (\"C\", \"I\", 2),\n",
    "    (\"D\", \"E\", 9),\n",
    "    (\"D\", \"F\", 14),\n",
    "    (\"E\", \"F\", 10),\n",
    "    (\"F\", \"G\", 2),\n",
    "    (\"G\", \"H\", 1),\n",
    "    (\"G\", \"I\", 6),\n",
    "    (\"H\", \"I\", 7),\n",
    "    (\"B\", \"E\", 6),\n",
    "]\n",
    "\n",
    "sub_trees = [[node] for node in sorted({n for edge in edges2 for n in edge[:2]})]\n",
    "\n",
    "def build_clusters(edges, sub_trees):\n",
    "  for edge in edges:\n",
    "    t1 = next(filter(lambda x: edge[0] in x,sub_trees))\n",
    "    t2 = next(filter(lambda x: edge[1] in x,sub_trees))\n",
    "\n",
    "    sub_trees.remove(t1)\n",
    "    sub_trees.remove(t2)\n",
    "    sub_trees.append(t1 + t2)\n",
    "\n",
    "  return sub_trees\n",
    "\n",
    "def k_clustering(k, edges):\n",
    "  sub_trees = [[node] for node in sorted({n for edge in edges for n in edge[:2]})]\n",
    "\n",
    "  minimal_tree = mst(edges=edges, min_tree=[])\n",
    "  descending_sorted = sorted(minimal_tree, key=lambda x: x[2], reverse=True)\n",
    "  return build_clusters(descending_sorted[k - 1:], sub_trees)\n",
    "\n",
    "res = k_clustering(3, edges2)\n",
    "print(res)\n"
   ]
  },
  {
   "cell_type": "markdown",
   "id": "6f304ee0",
   "metadata": {},
   "source": [
    "# Djikstra Algorithm Greedy Approach\n",
    "\n",
    "Ziel ist es alle kuerzesten Pfade eines gewaehlten Knotens zu allen anderen Knoten zu finden."
   ]
  },
  {
   "cell_type": "code",
   "execution_count": 18,
   "id": "38ae91bb",
   "metadata": {},
   "outputs": [
    {
     "name": "stdout",
     "output_type": "stream",
     "text": [
      "[0, 1, 2, 3, 4, 5] [None, 2, 5, 6, 7, 8] [None, 0, 0, 1, 3, 2]\n"
     ]
    }
   ],
   "source": [
    "import math\n",
    "\n",
    "graph = {\n",
    "    0: [(1, 2), (2, 5)],\n",
    "    1: [(0, 2), (3, 4), (4, 7)],\n",
    "    2: [(0, 5), (5, 3)],\n",
    "    3: [(1, 4), (4, 1)],\n",
    "    4: [(1, 7), (3, 1), (5, 2)],\n",
    "    5: [(2, 3), (4, 2)]\n",
    "}\n",
    "\n",
    "def dijkstra(graph):\n",
    "  v = [x for x in graph.keys()]\n",
    "  distance = [None for _ in graph.keys()]\n",
    "  pred = [None for _ in graph.keys()]\n",
    "  candidates = [(0, 0)]\n",
    "  visited = []\n",
    "\n",
    "  while candidates:\n",
    "    best = candidates.pop(0)\n",
    "    visited.append(best[0])\n",
    "\n",
    "    for child in graph[best[0]]:\n",
    "        if child[0] not in visited:\n",
    "            new_dist = best[1] + child[1]\n",
    "            if not distance[child[0]] or new_dist < distance[child[0]]:\n",
    "                distance[child[0]] = new_dist\n",
    "                pred[child[0]] = best[0]\n",
    "                candidates.append((child[0], new_dist))\n",
    "              \n",
    "    candidates = sorted(candidates, key=lambda x: distance[x[0]])\n",
    "\n",
    "  return v, distance, pred\n",
    "\n",
    "v, distance, pred = dijkstra(graph)\n",
    "print(v, distance, pred)"
   ]
  },
  {
   "cell_type": "markdown",
   "id": "d550585c",
   "metadata": {},
   "source": [
    "# Greedy approach for coloring a graph\n",
    "\n",
    "Gegeben sein eine Anzahl n von Ländern und eine dazugehörige Landkarte als Matrix\n",
    "a[][], in der a[i][j]=1 ist, wenn die Länder i und j benachbart sind, und\n",
    "a[i][j]=0 sonst."
   ]
  },
  {
   "cell_type": "code",
   "execution_count": 76,
   "id": "f861c9ef",
   "metadata": {},
   "outputs": [
    {
     "name": "stdout",
     "output_type": "stream",
     "text": [
      "[2, 1, 0, 2, 1]\n"
     ]
    }
   ],
   "source": [
    "m = [[0,1,1,0,0],\n",
    "     [1,0,1,1,0],  \n",
    "     [1,1,0,1,1],  \n",
    "     [0,1,1,0,1],  \n",
    "     [0,0,1,1,0]]\n",
    "\n",
    "def sort_by_edges(graph):\n",
    "  return sorted([(sum(row), index) for index, row in enumerate(graph)], key=lambda x: x[0], reverse=True)\n",
    "\n",
    "def get_optimal_color(colors, node, graph):\n",
    "  index = node[1]\n",
    "  adj_colors = []\n",
    "  optimal_color = 0\n",
    "\n",
    "  for index, j in enumerate(graph[index]):\n",
    "    if j:\n",
    "      adj_colors.append(colors[index])\n",
    "  \n",
    "  while(optimal_color in adj_colors): optimal_color+=1\n",
    "  return optimal_color\n",
    "\n",
    "def color_graph(graph):\n",
    "\n",
    "  colors = [-1 for _ in range(len(m))]\n",
    "  nodes = sort_by_edges(graph)\n",
    " \n",
    "  while nodes:\n",
    "    n = nodes.pop(0)\n",
    "\n",
    "    c = get_optimal_color(colors, n, graph)\n",
    "    colors[n[1]] = c\n",
    "  \n",
    "  return colors\n",
    "\n",
    "    \n",
    "\n",
    "  \n",
    "\n",
    "\n",
    "res = color_graph(m)\n",
    "print(res)"
   ]
  },
  {
   "cell_type": "markdown",
   "id": "6c66dc8d",
   "metadata": {},
   "source": [
    "# Job Scheduling on n Processors with max(deadline) slots per processor.\n",
    "\n",
    "Given a list of jobs (with profits and deadlines), and multiple processors, find a scheduling of as many jobs as possible within their deadlines to maximize total profit."
   ]
  },
  {
   "cell_type": "code",
   "execution_count": 102,
   "id": "06c18a81",
   "metadata": {},
   "outputs": [
    {
     "name": "stdout",
     "output_type": "stream",
     "text": [
      "266\n"
     ]
    }
   ],
   "source": [
    "jobs = [\n",
    "    (100, 2),\n",
    "    (19, 1),\n",
    "    (27, 2),\n",
    "    (25, 1),\n",
    "    (15, 3),\n",
    "    (30, 3),\n",
    "    (50, 2)\n",
    "]\n",
    "\n",
    "num_processors = 3\n",
    "\n",
    "def set_to_processor(job, processors):\n",
    "  for i in range(job[1], 0, -1):\n",
    "    \n",
    "    for processor in processors:\n",
    "      if not processor[i - 1]:\n",
    "        processor[i - 1].append(job)\n",
    "        \n",
    "        return\n",
    "\n",
    "def job_scheduling(num_processors, jobs):\n",
    "  jobs = sorted(jobs, key=lambda x: x[0], reverse=True)\n",
    "  max_deadline = max(jobs, key=lambda x: x[1])[1]\n",
    "\n",
    "  slots_per_processor = [[[] for _ in range(max_deadline)] for _ in range(num_processors)] \n",
    "\n",
    "  while jobs:\n",
    "    best = jobs.pop(0)\n",
    "    set_to_processor(best, slots_per_processor)\n",
    "\n",
    "  sums = 0\n",
    "  for processor in slots_per_processor:\n",
    "    for slot in processor:\n",
    "      if slot:\n",
    "        sums += slot[0][0]\n",
    "\n",
    "  return sum(sum(entry[0][0] if entry else 0 for entry in row) for row in slots_per_processor)\n",
    "\n",
    "res = job_scheduling(num_processors, jobs)\n",
    "print(res)"
   ]
  },
  {
   "cell_type": "markdown",
   "id": "ab890f32",
   "metadata": {},
   "source": [
    "# Fraktionales Rucksack Problem\n",
    "\n",
    "Aehnlich wie das normale Rucksack Problem bei dem man Gegenstaende die ein Gewicht und ein Wert haben so in einen Rucksack mit begrenzter kapazitaet zu packen das \n",
    "man den summierten Wert maximiert.\n",
    "\n",
    "Beim Fraktionalen Problem kommt noch die Bedingung dazu dass man auch nur Bruchteile von Gegenstaenden mit nehmen kann."
   ]
  },
  {
   "cell_type": "code",
   "execution_count": 114,
   "id": "fd0c4c4f",
   "metadata": {},
   "outputs": [
    {
     "name": "stdout",
     "output_type": "stream",
     "text": [
      "240.0\n"
     ]
    }
   ],
   "source": [
    "# value, weight\n",
    "items = [\n",
    "    (60, 10),\n",
    "    (100, 20),\n",
    "    (120, 30)\n",
    "]\n",
    "\n",
    "capacity = 50\n",
    "\n",
    "\n",
    "\n",
    "def fractional_knapsack(items, capacity):\n",
    "\n",
    "  items = sorted([(item[0] / item[1], item[0], item[1]) for item in items], key=lambda x: x[0], reverse=True)\n",
    "\n",
    "  values = []\n",
    "\n",
    "  while(items):\n",
    "\n",
    "    best = items.pop(0)\n",
    "\n",
    "    if capacity - best[2] >= 0:\n",
    "      capacity -= best[2]\n",
    "      values.append(best[1])\n",
    "\n",
    "    else:\n",
    "      fraction = capacity * best[1] / best[2]\n",
    "      capacity -= fraction\n",
    "      values.append(fraction)\n",
    "      return sum(values)\n",
    "    \n",
    "  return sum(values)\n",
    "\n",
    "\n",
    "\n",
    "res = fractional_knapsack(items, capacity)\n",
    "\n",
    "print(res)\n"
   ]
  },
  {
   "cell_type": "markdown",
   "id": "429f7de7",
   "metadata": {},
   "source": [
    "# Maximum-Weight Independent Set (MWIS)\n",
    "\n",
    "gesucht ist das independent set mit der approximativ hoechsten Summe durch einen Greedy Approach.\n",
    "\n",
    "{1, 3, 5, 2, 8} = 1 + 5 + 8 = 14"
   ]
  },
  {
   "cell_type": "code",
   "execution_count": null,
   "id": "ee1d8cae",
   "metadata": {},
   "outputs": [
    {
     "name": "stdout",
     "output_type": "stream",
     "text": [
      "[4, 5, 4, 1, 7]\n",
      "[4, 5, 4]\n",
      "[4]\n",
      "[7, 4, 4] 15\n"
     ]
    }
   ],
   "source": [
    "weights = [4, 5, 4, 1, 7]\n",
    "\n",
    "def mwis(weights):\n",
    "    weights = weights[:]\n",
    "    selected = []\n",
    "\n",
    "    i = 0\n",
    "    while i < len(weights):\n",
    "        max_weight = max(weights)\n",
    "        max_index = weights.index(max_weight)\n",
    "\n",
    "        selected.append(max_weight)\n",
    "\n",
    "        del weights[max_index]\n",
    "        if max_index - 1 >= 0:\n",
    "            del weights[max_index - 1]\n",
    "            max_index -= 1\n",
    "        if max_index < len(weights):\n",
    "            del weights[max_index]\n",
    "\n",
    "    return selected, sum(selected)\n",
    "\n",
    "weights = [4, 5, 4, 1, 7]\n",
    "v, s = mwis(weights)\n",
    "print(v, s)\n",
    "    \n",
    "\n",
    "  \n",
    "v, s = mwis(weights)\n",
    "print(v, s)\n"
   ]
  },
  {
   "cell_type": "markdown",
   "id": "5659fa6b",
   "metadata": {},
   "source": [
    "# Bellman-Ford Algorithm\n",
    "\n",
    "Algorithmus um alle kürzesten Wege in einem Unidirektionalen Graphen mit negativen Kantengewichten von einem Startpunkt s zu allen anderen Knoten zu finden"
   ]
  },
  {
   "cell_type": "code",
   "execution_count": 17,
   "id": "d9fa506c",
   "metadata": {},
   "outputs": [
    {
     "name": "stdout",
     "output_type": "stream",
     "text": [
      "[0, 3, 2, 1, 6]\n"
     ]
    }
   ],
   "source": [
    "import math\n",
    "\n",
    "graph = {\n",
    "    0: [(1, 4), (2, 2)],\n",
    "    1: [(2, 3), (3, 2), (4, 3)],\n",
    "    2: [(1, 1), (3, 4), (4, 5)],\n",
    "    3: [],\n",
    "    4: [(3, -5)]\n",
    "}\n",
    "\n",
    "\n",
    "\n",
    "\n",
    "\n",
    "def bellman_ford(graph):\n",
    "  v = [0, math.inf, math.inf, math.inf, math.inf]\n",
    "  changes = True\n",
    "\n",
    "  while(changes):\n",
    "    changes = False\n",
    "\n",
    "    for node in graph:\n",
    "      for child in graph[node]:\n",
    "\n",
    "        id = child[0]\n",
    "        cost = child[1]\n",
    "\n",
    "        if v[id] == math.inf or v[id] > (v[node] + cost):\n",
    "          changes = True\n",
    "          v[id] = cost + v[node]\n",
    "  return v\n",
    "        \n",
    "\n",
    "\n",
    "res = bellman_ford(graph)\n",
    "print(res)\n",
    "\n",
    "\n"
   ]
  },
  {
   "cell_type": "markdown",
   "id": "91644c12",
   "metadata": {},
   "source": [
    "# Greedy Approach to the Partitioning Problem\n",
    "\n",
    "Das Partitiosproblem returned im Greedy Approach eine approximativ korrekte Lösung die nicht immer komplett korrekt ist."
   ]
  },
  {
   "cell_type": "code",
   "execution_count": 20,
   "id": "a26a62c8",
   "metadata": {},
   "outputs": [
    {
     "name": "stdout",
     "output_type": "stream",
     "text": [
      "13\n",
      "12\n"
     ]
    }
   ],
   "source": [
    "n = [9, 7, 5, 3, 1]\n",
    "\n",
    "\n",
    "\n",
    "def partition(n):\n",
    "\n",
    "  a1, a2 = [], []\n",
    "  s1, s2 = 0, 0\n",
    "  n = sorted(n, reverse=True)\n",
    "\n",
    "\n",
    "  while(n):\n",
    "    m = n.pop(0)\n",
    "\n",
    "    if s1 > s2:\n",
    "      a2.append(m)\n",
    "      s2 += m\n",
    "    else:\n",
    "      a1.append(m)\n",
    "      s1 += m\n",
    "\n",
    "  return a1, a2\n",
    "\n",
    "\n",
    "a1, a2 = partition(n)\n",
    "print(sum(a1))\n",
    "print(sum(a2))"
   ]
  },
  {
   "cell_type": "markdown",
   "id": "adf46a06",
   "metadata": {},
   "source": [
    "# Set Cover Problem\n",
    "\n",
    "Gegeben sei eine Menge u mit n Elementen und einige Teilmengen welche alle Teilmengen von U sind.\n",
    "\n",
    "Ziel ist es die niedrigste Anzahl an Teilmengen zu finden die insgesamt die Gesamtmenge U abbilden.\n",
    "\n",
    "Greedy ist nicht optimal obviously weil er nicht den ganzen Baum abläuft sondern immer nur von den noch übrigen Teilmengen diese nimmt die am meisten noch nicht vorhandene Elemente besitzt."
   ]
  },
  {
   "cell_type": "code",
   "execution_count": 26,
   "id": "74d30f68",
   "metadata": {},
   "outputs": [
    {
     "name": "stdout",
     "output_type": "stream",
     "text": [
      "[{1, 2, 3}, {4, 5, 6}, {5, 6, 7}]\n"
     ]
    }
   ],
   "source": [
    "u = {1, 2, 3, 4, 5, 6, 7}\n",
    "\n",
    "subsets = [\n",
    "    {1, 2, 3},\n",
    "    {2, 4},   \n",
    "    {3, 4, 5},\n",
    "    {4, 5, 6},\n",
    "    {5, 6, 7},\n",
    "    {1, 7}    \n",
    "]\n",
    "\n",
    "def get_best(subsets, curr_cover):\n",
    "  best = None\n",
    "  best_counter = 0\n",
    "\n",
    "  for set in subsets:\n",
    "    counter = 0\n",
    "    for item in set:\n",
    "      if item not in curr_cover:\n",
    "        counter+=1\n",
    "    if counter > best_counter:\n",
    "      best_counter = counter\n",
    "      best = set\n",
    "  return best\n",
    "\n",
    "\n",
    "def set_cover(u, subsets):\n",
    "  used_sets = []\n",
    "  curr_cover = set()\n",
    "\n",
    "  while curr_cover != u:\n",
    "\n",
    "    best = get_best(subsets, curr_cover)\n",
    "    used_sets.append(best)\n",
    "    curr_cover.update(best)\n",
    "\n",
    "  return used_sets\n",
    "\n",
    "res = set_cover(u, subsets)\n",
    "print(res)\n",
    "\n"
   ]
  },
  {
   "cell_type": "markdown",
   "id": "3b4b6c34",
   "metadata": {},
   "source": [
    "# Shanon Code (chatGPT implementierung weil kb auf den mist)"
   ]
  },
  {
   "cell_type": "code",
   "execution_count": 29,
   "id": "49872f60",
   "metadata": {},
   "outputs": [
    {
     "name": "stdout",
     "output_type": "stream",
     "text": [
      "{'A': '00', 'B': '01', 'C': '101', 'D': '1110'}\n"
     ]
    }
   ],
   "source": [
    "import math\n",
    "\n",
    "def to_binary(fraction, length):\n",
    "    binary = \"\"\n",
    "    while len(binary) < length:\n",
    "        fraction *= 2\n",
    "        bit = int(fraction)\n",
    "        binary += str(bit)\n",
    "        fraction -= bit\n",
    "    return binary\n",
    "\n",
    "def shannon_code(symbols, probabilities):\n",
    "    paired = sorted(zip(symbols, probabilities), key=lambda x: -x[1])\n",
    "    \n",
    "    codes = {}\n",
    "    cumulative_probability = 0\n",
    "\n",
    "    for symbol, p in paired:\n",
    "        l = math.ceil(-math.log2(p))\n",
    "        f = cumulative_probability  \n",
    "        code = to_binary(f, l)      \n",
    "        codes[symbol] = code\n",
    "        cumulative_probability += p\n",
    "\n",
    "    return codes\n",
    "  \n",
    "\n",
    "symbols = ['A', 'B', 'C', 'D']\n",
    "probabilities = [0.4, 0.3, 0.2, 0.1]\n",
    "\n",
    "codes = shannon_code(symbols, probabilities)\n",
    "print(codes)"
   ]
  },
  {
   "cell_type": "markdown",
   "id": "4fbbdad7",
   "metadata": {},
   "source": [
    "# Shortest common superstring\n",
    "\n",
    "Gegebenen sei eine Menge an Strings die man durch eventuelles überlappen zu einem Gesamtstring mergen soll der eine möglichst geringe Länge hat.\n",
    "\n",
    "e.g. [abc, cde, efg] = abcdefg -> len(7)\n"
   ]
  }
 ],
 "metadata": {
  "kernelspec": {
   "display_name": "Python 3",
   "language": "python",
   "name": "python3"
  },
  "language_info": {
   "codemirror_mode": {
    "name": "ipython",
    "version": 3
   },
   "file_extension": ".py",
   "mimetype": "text/x-python",
   "name": "python",
   "nbconvert_exporter": "python",
   "pygments_lexer": "ipython3",
   "version": "3.13.5"
  }
 },
 "nbformat": 4,
 "nbformat_minor": 5
}
