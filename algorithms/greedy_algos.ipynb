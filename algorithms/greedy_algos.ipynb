{
 "cells": [
  {
   "cell_type": "markdown",
   "id": "d8d70232",
   "metadata": {},
   "source": [
    "# Collection of implemented Greedy Algorithms for the lecture Algorithm techniques SS25 HTWG Konstanz"
   ]
  },
  {
   "cell_type": "markdown",
   "id": "4b441299",
   "metadata": {},
   "source": [
    "# A* Algorithm\n",
    "\n",
    "The A* algorithm uses a heuristik to determine the best way to move through a graph from a starting point to an endpoint."
   ]
  },
  {
   "cell_type": "code",
   "execution_count": null,
   "id": "72985cd0",
   "metadata": {},
   "outputs": [
    {
     "name": "stdout",
     "output_type": "stream",
     "text": [
      "[('B', 6), ('C', 10)]\n"
     ]
    },
    {
     "ename": "KeyboardInterrupt",
     "evalue": "",
     "output_type": "error",
     "traceback": [
      "\u001b[31m---------------------------------------------------------------------------\u001b[39m",
      "\u001b[31mKeyboardInterrupt\u001b[39m                         Traceback (most recent call last)",
      "\u001b[36mCell\u001b[39m\u001b[36m \u001b[39m\u001b[32mIn[8]\u001b[39m\u001b[32m, line 46\u001b[39m\n\u001b[32m     43\u001b[39m       \u001b[38;5;28;01mif\u001b[39;00m best[\u001b[32m0\u001b[39m] == end_node: \u001b[38;5;28;01mreturn\u001b[39;00m curr_path\n\u001b[32m     44\u001b[39m       priority_list.append(calculate_ways(graph[best]))\n\u001b[32m---> \u001b[39m\u001b[32m46\u001b[39m best_path = \u001b[43ma_star\u001b[49m\u001b[43m(\u001b[49m\u001b[43m)\u001b[49m\n",
      "\u001b[36mCell\u001b[39m\u001b[36m \u001b[39m\u001b[32mIn[8]\u001b[39m\u001b[32m, line 44\u001b[39m, in \u001b[36ma_star\u001b[39m\u001b[34m(curr_path, priority_list, curr_cost, end_node)\u001b[39m\n\u001b[32m     41\u001b[39m curr_path.append(best[\u001b[32m0\u001b[39m])\n\u001b[32m     43\u001b[39m \u001b[38;5;28;01mif\u001b[39;00m best[\u001b[32m0\u001b[39m] == end_node: \u001b[38;5;28;01mreturn\u001b[39;00m curr_path\n\u001b[32m---> \u001b[39m\u001b[32m44\u001b[39m priority_list.append(\u001b[43mcalculate_ways\u001b[49m\u001b[43m(\u001b[49m\u001b[43mgraph\u001b[49m\u001b[43m[\u001b[49m\u001b[43mbest\u001b[49m\u001b[43m]\u001b[49m\u001b[43m)\u001b[49m)\n",
      "\u001b[36mCell\u001b[39m\u001b[36m \u001b[39m\u001b[32mIn[8]\u001b[39m\u001b[32m, line 27\u001b[39m, in \u001b[36mcalculate_ways\u001b[39m\u001b[34m(nodes)\u001b[39m\n\u001b[32m     24\u001b[39m   cost = node[\u001b[32m1\u001b[39m] + heuristic[node[\u001b[32m0\u001b[39m]]\n\u001b[32m     25\u001b[39m   node_list.append((node[\u001b[32m0\u001b[39m], cost))\n\u001b[32m---> \u001b[39m\u001b[32m27\u001b[39m \u001b[38;5;28;01mreturn\u001b[39;00m \u001b[38;5;28;43msorted\u001b[39;49m\u001b[43m(\u001b[49m\u001b[43mnode_list\u001b[49m\u001b[43m,\u001b[49m\u001b[43m \u001b[49m\u001b[43mkey\u001b[49m\u001b[43m=\u001b[49m\u001b[38;5;28;43;01mlambda\u001b[39;49;00m\u001b[43m \u001b[49m\u001b[43mx\u001b[49m\u001b[43m:\u001b[49m\u001b[43m \u001b[49m\u001b[43mx\u001b[49m\u001b[43m[\u001b[49m\u001b[32;43m1\u001b[39;49m\u001b[43m]\u001b[49m\u001b[43m)\u001b[49m\n",
      "\u001b[36mCell\u001b[39m\u001b[36m \u001b[39m\u001b[32mIn[8]\u001b[39m\u001b[32m, line 27\u001b[39m, in \u001b[36mcalculate_ways.<locals>.<lambda>\u001b[39m\u001b[34m(x)\u001b[39m\n\u001b[32m     24\u001b[39m   cost = node[\u001b[32m1\u001b[39m] + heuristic[node[\u001b[32m0\u001b[39m]]\n\u001b[32m     25\u001b[39m   node_list.append((node[\u001b[32m0\u001b[39m], cost))\n\u001b[32m---> \u001b[39m\u001b[32m27\u001b[39m \u001b[38;5;28;01mreturn\u001b[39;00m \u001b[38;5;28msorted\u001b[39m(node_list, key=\u001b[38;5;28;01mlambda\u001b[39;00m x: x[\u001b[32m1\u001b[39m])\n",
      "\u001b[31mKeyboardInterrupt\u001b[39m: "
     ]
    }
   ],
   "source": [
    "heuristic = {\n",
    "    \"A\": 6, \n",
    "    \"B\": 4,\n",
    "    \"C\": 6,\n",
    "    \"D\": 5,\n",
    "    \"E\": 2,\n",
    "    \"F\": 0\n",
    "}\n",
    "\n",
    "\n",
    "graph = {\n",
    "    \"A\": [(\"B\", 2), (\"C\", 4)],\n",
    "    \"B\": [(\"D\", 3), (\"E\", 2)],\n",
    "    \"C\": [(\"D\", 1)],\n",
    "    \"D\": [(\"F\", 5)],\n",
    "    \"E\": [(\"F\", 2)],\n",
    "    \"F\": []\n",
    "}\n",
    "\n",
    "def calculate_ways(nodes, curr_cost):\n",
    "  node_list = []\n",
    "\n",
    "  for node in nodes:\n",
    "    cost = node[1] + heuristic[node[0]]\n",
    "    node_list.append((node[0], cost))\n",
    "  \n",
    "  return sorted(node_list, key=lambda x: x[1])\n",
    "\n",
    "\n",
    "\n",
    "res = calculate_ways([(\"B\", 2), (\"C\", 4)])\n",
    "print(res)\n",
    "\n",
    "\n",
    "def a_star(curr_path=[], priority_list=['A'], curr_cost=0, end_node='F'):\n",
    "\n",
    "\n",
    "    while (priority_list):\n",
    "\n",
    "      best = priority_list[0]\n",
    "      curr_path.append(best[0])\n",
    "\n",
    "      if best[0] == end_node: return curr_path\n",
    "      priority_list.append(calculate_ways(graph[best]))\n",
    "\n",
    "best_path = a_star()\n"
   ]
  }
 ],
 "metadata": {
  "kernelspec": {
   "display_name": "Python 3",
   "language": "python",
   "name": "python3"
  },
  "language_info": {
   "codemirror_mode": {
    "name": "ipython",
    "version": 3
   },
   "file_extension": ".py",
   "mimetype": "text/x-python",
   "name": "python",
   "nbconvert_exporter": "python",
   "pygments_lexer": "ipython3",
   "version": "3.13.5"
  }
 },
 "nbformat": 4,
 "nbformat_minor": 5
}
