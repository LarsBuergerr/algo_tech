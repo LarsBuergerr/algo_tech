{
 "cells": [
  {
   "cell_type": "markdown",
   "id": "d8d70232",
   "metadata": {},
   "source": [
    "# Collection of implemented Greedy Algorithms for the lecture Algorithm techniques SS25 HTWG Konstanz"
   ]
  },
  {
   "cell_type": "markdown",
   "id": "4b441299",
   "metadata": {},
   "source": [
    "# A* Algorithm\n",
    "\n",
    "The A* algorithm uses a heuristik to determine the best way to move through a graph from a starting point to an endpoint."
   ]
  },
  {
   "cell_type": "code",
   "execution_count": 33,
   "id": "72985cd0",
   "metadata": {},
   "outputs": [
    {
     "name": "stdout",
     "output_type": "stream",
     "text": [
      "[('A', 0), ('B', 6), ('E', 6), ('F', 6)]\n"
     ]
    }
   ],
   "source": [
    "import copy\n",
    "\n",
    "heuristic = {\n",
    "    \"A\": 6, \n",
    "    \"B\": 4,\n",
    "    \"C\": 6,\n",
    "    \"D\": 5,\n",
    "    \"E\": 2,\n",
    "    \"F\": 0\n",
    "}\n",
    "\n",
    "\n",
    "graph = {\n",
    "    \"A\": [(\"B\", 2), (\"C\", 4)],\n",
    "    \"B\": [(\"D\", 3), (\"E\", 2)],\n",
    "    \"C\": [(\"D\", 1)],\n",
    "    \"D\": [(\"F\", 5)],\n",
    "    \"E\": [(\"F\", 2)],\n",
    "    \"F\": []\n",
    "}\n",
    "\n",
    "def pop_best(list):\n",
    "   \n",
    "  best = sorted(list, key=lambda x: x[1])[0]\n",
    "  list.remove(best)\n",
    "\n",
    "  return best\n",
    "      \n",
    "\n",
    "def a_star(priority_list=[('A', 0)], visited=[], curr_cost=0,start_node='A', end_node='F', optimal=[]):\n",
    "\n",
    "\n",
    "    while (priority_list):\n",
    "\n",
    "      best = pop_best(priority_list)\n",
    "      visited.append(best[0])\n",
    "      optimal.append(best)\n",
    "\n",
    "      if best[0] == end_node: return optimal\n",
    "\n",
    "      current = 0 if best[0] == start_node else best[1] - heuristic[best[0]]\n",
    "      for child in graph[best[0]]:\n",
    "        if child[0] in visited:\n",
    "           continue\n",
    "\n",
    "        way_cost = current + child[1]\n",
    "        estimated = way_cost + heuristic[child[0]]\n",
    "        priority_list.append((child[0], estimated))\n",
    "\n",
    "best_path = a_star()\n",
    "print(best_path)\n"
   ]
  },
  {
   "cell_type": "markdown",
   "id": "73706ef4",
   "metadata": {},
   "source": [
    "# Greedy optimal activity selection algorithm"
   ]
  },
  {
   "cell_type": "code",
   "execution_count": 55,
   "id": "5c7ba000",
   "metadata": {},
   "outputs": [
    {
     "name": "stdout",
     "output_type": "stream",
     "text": [
      "[('A12', 0, 3), ('A3', 3, 5), ('A4', 5, 7), ('A5', 8, 9), ('A14', 9, 10), ('A15', 11, 12), ('A10', 12, 14)]\n"
     ]
    }
   ],
   "source": [
    "activities = [\n",
    "    (\"A1\", 0, 6),\n",
    "    (\"A2\", 1, 4),\n",
    "    (\"A3\", 3, 5),\n",
    "    (\"A4\", 5, 7),\n",
    "    (\"A5\", 8, 9),\n",
    "    (\"A6\", 5, 9),\n",
    "    (\"A7\", 2, 13),\n",
    "    (\"A8\", 6, 10),\n",
    "    (\"A9\", 8, 11),\n",
    "    (\"A10\", 12, 14),\n",
    "    (\"A11\", 13, 16),\n",
    "    (\"A12\", 0, 3),\n",
    "    (\"A13\", 4, 5),\n",
    "    (\"A14\", 9, 10),\n",
    "    (\"A15\", 11, 12),\n",
    "]\n",
    "\n",
    "\n",
    "\n",
    "def optimal_plan(activities=activities):\n",
    "  activities = sorted(activities, key=lambda x: x[2])\n",
    "  best_activities = []\n",
    "  curr_time = 0\n",
    "  while list(filter(lambda x: x[1] >= curr_time, activities)):\n",
    "    filtered = list(filter(lambda x: x[1] >= curr_time, activities))\n",
    "    best = filtered.pop(0)\n",
    "    best_activities.append(best)\n",
    "    curr_time = best[2]\n",
    "    \n",
    "  return best_activities\n",
    "\n",
    "res = optimal_plan()\n",
    "print(res)"
   ]
  },
  {
   "cell_type": "markdown",
   "id": "fe6c816e",
   "metadata": {},
   "source": [
    "# Approx Bin Packing\n",
    "\n",
    "Ziel ist es eine Menge an Items mit unterschiedlicher groesse in moeglichst wenige pakete zu packen die eine fixe groese haben."
   ]
  },
  {
   "cell_type": "code",
   "execution_count": 66,
   "id": "e53c2e93",
   "metadata": {},
   "outputs": [
    {
     "name": "stdout",
     "output_type": "stream",
     "text": [
      "[[8, 2], [7, 3], [5, 4, 1]]\n"
     ]
    }
   ],
   "source": [
    "packets = [2, 5, 4, 7, 1, 3, 8]\n",
    "bin_capacity = 10\n",
    "\n",
    "def fits(packet, bins):\n",
    "  for bin in bins:\n",
    "    if sum(bin) + packet <= bin_capacity:\n",
    "      return bin\n",
    "    \n",
    "  return None\n",
    "\n",
    "def bin_packing(packets=packets):\n",
    "  \n",
    "  curr_bins = []\n",
    "  packets = sorted(packets, reverse=True) # to sort the array descending the approximation get closer to optimal :)\n",
    "  \n",
    "  while(packets):\n",
    "    packet = packets.pop(0)\n",
    "    \n",
    "    if not curr_bins:\n",
    "      curr_bins.append([packet])\n",
    "    else:\n",
    "      bin = fits(packet, curr_bins)\n",
    "      bin.append(packet) if bin else curr_bins.append([packet])\n",
    "  return curr_bins\n",
    "\n",
    "\n",
    "res = bin_packing()\n",
    "print(res) "
   ]
  }
 ],
 "metadata": {
  "kernelspec": {
   "display_name": "Python 3",
   "language": "python",
   "name": "python3"
  },
  "language_info": {
   "codemirror_mode": {
    "name": "ipython",
    "version": 3
   },
   "file_extension": ".py",
   "mimetype": "text/x-python",
   "name": "python",
   "nbconvert_exporter": "python",
   "pygments_lexer": "ipython3",
   "version": "3.13.3"
  }
 },
 "nbformat": 4,
 "nbformat_minor": 5
}
