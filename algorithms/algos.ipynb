{
 "cells": [
  {
   "cell_type": "markdown",
   "id": "5030b2d6",
   "metadata": {},
   "source": [
    "Collection of implemented Algorithms for the SS25 lecture algorithm techniques"
   ]
  },
  {
   "cell_type": "markdown",
   "id": "fd9ae107",
   "metadata": {},
   "source": [
    "Backtracking Algorithms"
   ]
  },
  {
   "cell_type": "code",
   "execution_count": null,
   "id": "b24d2c29",
   "metadata": {},
   "outputs": [
    {
     "name": "stdout",
     "output_type": "stream",
     "text": [
      "setting color 0 to node 0\n",
      "setting color 1 to node 1\n",
      "setting color 1 to node 0\n",
      "setting color 0 to node 1\n",
      "No valid coloring found.\n"
     ]
    }
   ],
   "source": [
    "import networkx as nx\n",
    "\n",
    "# Create the graph\n",
    "G = nx.Graph()\n",
    "G.add_edges_from([(0, 1), (1, 2), (2, 0)])\n",
    "\n",
    "c = 2\n",
    "\n",
    "colors = [-1 for _ in G.nodes()]\n",
    "\n",
    "def check_color(graph, i, color):\n",
    "    for neighbor in graph.adj[i]:\n",
    "        if colors[neighbor] == color:\n",
    "            return False\n",
    "    return True\n",
    "\n",
    "def coloring(graph, c, i):\n",
    "\n",
    "    # sobald die maximale laenge des graphen erreicht wurde \n",
    "    # ein erfolgreiches ergebnis gefunden\n",
    "    if i == len(graph.nodes):\n",
    "        return True\n",
    "\n",
    "    # checke fuer jeden knoten jede moeglich farbe ab ob diese\n",
    "    # mit den nachbars knoten passt\n",
    "    for curr_color in range(c):\n",
    "        if check_color(graph, i, curr_color):\n",
    "            # wenn farbe passt setzte colors array an index i auf die \n",
    "            # passende farbe\n",
    "            colors[i] = curr_color\n",
    "            print(f\"setting color {curr_color} to node {i}\")\n",
    "\n",
    "            if coloring(graph, c, i + 1):\n",
    "                # rekursiver schritt einen knoten weiter runter\n",
    "                # falss dieser knoten true returned passt der aktuelle weg\n",
    "                # und es wird auch true returned\n",
    "                return True\n",
    "\n",
    "            # falls coloring False returned wird durch back tracking der fehler weiter\n",
    "            # hoch gegeben und vom aktuellen knoten wird die farbe wieder resettet \n",
    "            # und die naechste verfuegbare farbe curr_color versucht zu applien\n",
    "            colors[i] = -1\n",
    "\n",
    "    return False\n",
    "\n",
    "if coloring(G, c, 0):\n",
    "    print(\"Coloring successful:\", colors)\n",
    "else:\n",
    "    print(\"No valid coloring found.\")\n"
   ]
  }
 ],
 "metadata": {
  "kernelspec": {
   "display_name": "Python 3",
   "language": "python",
   "name": "python3"
  },
  "language_info": {
   "codemirror_mode": {
    "name": "ipython",
    "version": 3
   },
   "file_extension": ".py",
   "mimetype": "text/x-python",
   "name": "python",
   "nbconvert_exporter": "python",
   "pygments_lexer": "ipython3",
   "version": "3.13.3"
  }
 },
 "nbformat": 4,
 "nbformat_minor": 5
}
