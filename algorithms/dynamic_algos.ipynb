{
 "cells": [
  {
   "cell_type": "markdown",
   "id": "251cb8b5",
   "metadata": {},
   "source": [
    "# Collection of dynamic programming algorithms implemented for the Lecture Algorithm Techniques SS25"
   ]
  },
  {
   "cell_type": "markdown",
   "id": "b23aa745",
   "metadata": {},
   "source": [
    "# Fibonacci Sequence\n",
    "\n",
    "Ziel ist es die Fibonacci Folge als dynamisches Programm zu implementieren\n",
    "\n",
    "\n",
    "Im folgenden Code Block wurden zum einen die rekursive Variante der Fibonacci Folge implementiert als auch die dynamische Variante ohne rekursion"
   ]
  },
  {
   "cell_type": "code",
   "execution_count": 30,
   "id": "641a0802",
   "metadata": {},
   "outputs": [
    {
     "name": "stdout",
     "output_type": "stream",
     "text": [
      "8\n"
     ]
    }
   ],
   "source": [
    "\n",
    "\n",
    "def fib_rec(n):\n",
    "\n",
    "  if n == 0:\n",
    "    return 0\n",
    "\n",
    "  if n == 1:\n",
    "    return 1\n",
    "  \n",
    "  return fib_rec(n - 1) + fib_rec(n - 2)\n",
    "\n",
    "\n",
    "res = fib_rec(6)\n",
    "\n",
    "\n",
    "def fib_dyn(n):\n",
    "  cache = [0, 1]\n",
    "  \n",
    "  for i in range(2, n + 1):\n",
    "    res = cache[0] + cache[1]\n",
    "    cache[0] = cache[1]\n",
    "    cache[1] = res\n",
    "\n",
    "  return cache[-1]\n",
    "\n",
    "res = fib_dyn(6)\n",
    "\n",
    "print(res)"
   ]
  },
  {
   "cell_type": "markdown",
   "id": "8cae82d8",
   "metadata": {},
   "source": [
    "# Climbing stairs\n",
    "\n",
    "(with help from a yt tutorial)\n",
    "\n",
    "You are climbing a staircase and it takes you n steps to reach the top you can either go 1 or 2 steps at a time. how many distinct ways can you climb to the top?"
   ]
  },
  {
   "cell_type": "code",
   "execution_count": null,
   "id": "b93b89fc",
   "metadata": {},
   "outputs": [],
   "source": [
    "\n",
    "\n",
    "cache = {}\n",
    "\n",
    "if 3 in cache.keys():\n",
    "  print(cache[3])\n",
    "\n",
    "\n",
    "def climb_stairs(n, cache={}):\n",
    "\n",
    "  print(cache)\n",
    "\n",
    "  if n in cache.keys():\n",
    "    return cache[n]\n",
    "\n",
    "  if n < 2:\n",
    "    return 1\n",
    "\n",
    "  answer = 0\n",
    "  for i in range(1, 3):\n",
    "\n",
    "    sub_problem = n - i\n",
    "\n",
    "    if (sub_problem) < 0:\n",
    "      continue\n",
    "\n",
    "    else:\n",
    "      answer += climb_stairs(sub_problem, cache)\n",
    "\n",
    "\n",
    "  print(\"here with n {} and answer {}\".format(n, answer))\n",
    "  cache[n] = answer\n",
    "  return answer\n",
    "\n",
    "\n",
    "res = climb_stairs(5)\n",
    "\n",
    "print(res)"
   ]
  },
  {
   "attachments": {
    "image.png": {
     "image/png": "[encoded data removed]"
    }
   },
   "cell_type": "markdown",
   "id": "a8ca8924",
   "metadata": {},
   "source": [
    "# Zahlen-Dreieck\n",
    "\n",
    "Gegeben sei ein Dreieck mit natürlichen Zahlen (siehe\n",
    "rechts) abgelegt ein einem n  n Feld a[][]. \\\n",
    "Ein Pfad in diesem Dreieck verläuft immer vom obersten Eintrag zu einem Eintrag in der letzten Zeile, wobei nur zu einem Feld\n",
    "direkt nach unten oder nach unten rechts gegangen werden\n",
    "kann. \\\n",
    "Gesucht ist ein Pfad in dem Dreieck mit maximaler Summe der besuchten Einträge. \\\n",
    "Beispiel: Ein Pfad mit maximaler Summe 346 ist in der unteren Abbildung fett dargestellt. \\\n",
    "Er geht über die Spalten 1, 2, 3, 3, 3, 4, 5\n",
    "\n",
    "![image.png](attachment:image.png)"
   ]
  },
  {
   "cell_type": "code",
   "execution_count": null,
   "id": "bb361274",
   "metadata": {},
   "outputs": [
    {
     "name": "stdout",
     "output_type": "stream",
     "text": [
      "current computation of (2, 1) is using cached cell (2, 1) value 14\n",
      "20\n"
     ]
    }
   ],
   "source": [
    "m = [\n",
    "  [10, -1, -1, -1, -1, -1, -1],\n",
    "  [82, 81, -1, -1, -1, -1, -1],\n",
    "  [4 ,  6, 10, -1, -1, -1, -1],\n",
    "  [2 , 14, 35,  7, -1, -1, -1],\n",
    "  [41,  3, 52, 26, 15, -1, -1],\n",
    "  [32, 90, 11, 87, 56, 23, -1],\n",
    "  [54, 65, 89, 32, 71,  9, 31],\n",
    "]\n",
    "\n",
    "m2 = [\n",
    "    [5, -1, -1],\n",
    "    [3, 8, -1],\n",
    "    [2, 4, 6]\n",
    "]\n",
    "\n",
    "m3 = [\n",
    "    [1],\n",
    "    [2, 3],\n",
    "    [4, 5, 6],\n",
    "    [7, 8, 9, 10]\n",
    "]\n",
    "\n",
    "def valid_turns(row, col):\n",
    "  return [\n",
    "      (row + 1, col),\n",
    "      (row + 1, col + 1)\n",
    "  ]\n",
    "\n",
    "\n",
    "def find_max(cell, m, cache={}):\n",
    "  row = cell[0]\n",
    "  col = cell[1]\n",
    "\n",
    "  val = m[row][col]\n",
    "  \n",
    "  if cell in cache:\n",
    "    print(\"current computation using cached cell {} value {}\".format(cell, cell, cache[cell]))\n",
    "    return cache[cell]\n",
    "\n",
    "\n",
    "  if row == len(m) - 1:\n",
    "    return val\n",
    "  \n",
    "  curr_max = 0 \n",
    "\n",
    "  for turn in valid_turns(row, col):\n",
    "\n",
    "    curr_max = max(find_max(turn, m, cache), curr_max)\n",
    "\n",
    "  cache[cell] = val + curr_max\n",
    "\n",
    "  return val + curr_max\n",
    "\n",
    "\n",
    "\n",
    "res = find_max((0, 0), m3)\n",
    "\n",
    "print(res)"
   ]
  },
  {
   "attachments": {
    "image.png": {
     "image/png": "[encoded data removed]"
    }
   },
   "cell_type": "markdown",
   "id": "2a80bbc3",
   "metadata": {},
   "source": [
    "# Catalan Numbers\n",
    "\n",
    "The goal is to return the calculated Catalan Number for a given N\n",
    "\n",
    "![image.png](attachment:image.png)\n",
    "\n"
   ]
  },
  {
   "cell_type": "code",
   "execution_count": null,
   "id": "b626a29a",
   "metadata": {},
   "outputs": [],
   "source": [
    "# penis lol\n",
    "\n",
    "\n",
    "\n",
    "def catalan(k, cache={}):\n",
    "  \n",
    "  if k in cache:\n",
    "    print(\"using cache for {}\".format(k))\n",
    "    return cache[k]\n",
    "\n",
    "  if k < 2:\n",
    "    return 1\n",
    "\n",
    "  res = 0\n",
    "  for i in range(k):\n",
    "    print(i)\n",
    "    res += catalan(i, cache) * catalan(k - 1 - i, cache)\n",
    "\n",
    "  cache[k] = res\n",
    "  return res\n",
    "\n",
    "n = 100 # this would take without the cache[k] = res cache saving inrcedibly long lul\n",
    "\n",
    "res = catalan(n)\n",
    "print(res)"
   ]
  },
  {
   "cell_type": "markdown",
   "id": "0fa17039",
   "metadata": {},
   "source": [
    "# Min Cost Climbing Stairs\n",
    "\n",
    "You are given an integer array cost where cost[i] is the cost of ith step on a staircase. Once you pay the cost, you can either climb one or two steps.\n",
    "\n",
    "You can either start from the step with index 0, or the step with index 1.\n",
    "\n",
    "Return the minimum cost to reach the top of the floor."
   ]
  },
  {
   "cell_type": "code",
   "execution_count": 34,
   "id": "c38c2770",
   "metadata": {},
   "outputs": [
    {
     "name": "stdout",
     "output_type": "stream",
     "text": [
      "6\n"
     ]
    }
   ],
   "source": [
    "cost = [1,100,1,1,1,100,1,1,100,1]\n",
    "\n",
    "def minCost(curr_step, cost, cache={}):\n",
    "  \n",
    "  if curr_step in cache: \n",
    "    return cache[curr_step]\n",
    "\n",
    "  step_cost = 0 if curr_step == -1 else cost[curr_step]\n",
    "\n",
    "  if len(cost) == 1:\n",
    "    return cost[0]\n",
    "\n",
    "  min_cost = 0\n",
    "  for i in range(1, 3):\n",
    "    if ((curr_step + i) < len(cost)):\n",
    "      min_cost = min(min_cost + max(cost) if min_cost == 0 else min_cost, minCost(curr_step + i, cost, cache))\n",
    "  cache[curr_step] = step_cost + min_cost\n",
    "\n",
    "\n",
    "  return cache[curr_step]\n",
    "\n",
    "\n",
    "\n",
    "\n",
    "res = minCost(-1, cost)\n",
    "\n",
    "print(res)\n",
    "\n"
   ]
  },
  {
   "attachments": {
    "image.png": {
     "image/png": "[encoded data removed]"
    }
   },
   "cell_type": "markdown",
   "id": "6a9a9b66",
   "metadata": {},
   "source": [
    "# 0/1 Knapsack Problem\n",
    "\n",
    "Ziel ist es den maximalen Wert von n items in einen begrenzt grosen rucksack zu packen. Wie zb siehe unten.\n",
    "\n",
    "![image.png](attachment:image.png)"
   ]
  },
  {
   "cell_type": "code",
   "execution_count": 73,
   "id": "49fa89ee",
   "metadata": {},
   "outputs": [
    {
     "name": "stdout",
     "output_type": "stream",
     "text": [
      "1400\n"
     ]
    }
   ],
   "source": [
    "remaining_size = 10\n",
    "items = [0, 1, 2, 3, 4]\n",
    "\n",
    "item_value = [300, 200, 400, 500, 700]\n",
    "item_size  = [2, 1, 5, 3, 6]\n",
    "\n",
    "\n",
    "# tod reudig wtf\n",
    "def knap_sack(remaining_size, remaining_items, cache={}):\n",
    "    \n",
    "  key = str(remaining_size) + str(sorted(remaining_items))\n",
    "  if key in cache:\n",
    "    return cache[key]\n",
    "\n",
    "  if remaining_size <= 0 or not remaining_items:\n",
    "    return 0\n",
    "\n",
    "  val = 0\n",
    "  for item in remaining_items:\n",
    "    if item_size[item] <= remaining_size:\n",
    "      new_remaining = [x for x in remaining_items if x != item]\n",
    "\n",
    "      val = max(val, item_value[item] + knap_sack(remaining_size - item_size[item], new_remaining, cache))\n",
    "\n",
    "  cache[key] = val\n",
    "\n",
    "  return val\n",
    "\n",
    "res = knap_sack(remaining_size, items)\n",
    "print(res)\n"
   ]
  },
  {
   "cell_type": "markdown",
   "id": "ad178808",
   "metadata": {},
   "source": [
    "# Floyd-MWrshall Algorithmus zur berechnung aller kuerzesten wege eines Graphen amk"
   ]
  },
  {
   "cell_type": "code",
   "execution_count": null,
   "id": "dc8ed32e",
   "metadata": {},
   "outputs": [],
   "source": [
    "import math as m\n",
    "\n",
    "w = [\n",
    "  [0    , 10   , 3    , m.inf],\n",
    "  [m.inf, 0    , m.inf,     4],\n",
    "  [m.inf, 2    , 0    ,     5],\n",
    "  [m.inf, m.inf, m.inf,     0],\n",
    "]\n",
    "\n",
    "\n",
    "f = [\n",
    "  [-1,  1,  1, -1],\n",
    "  [-1, -1, -1,  2],\n",
    "  [-1,  3, -1,  3], \n",
    "  [-1, -1, -1, -1]\n",
    "]\n",
    "\n",
    "\n",
    "def floyd_warshall(w, f):\n",
    "  for k in range(len(w)): # zwischenknoten\n",
    "    for i in range(len(w)): # vorgaengerknoten\n",
    "      for j in range(len(w)): # nachfolgerknoten\n",
    "        if (w[i][k] + w[k][j] < w[i][j]):\n",
    "          w[i][j] = w[i][k] + w[k][j]\n",
    "          f[i][j] = k\n",
    "        \n",
    "\n",
    "def print_matrix(m):\n",
    "  for row in m:\n",
    "    for cell in row:\n",
    "      print(\" {} \".format(cell), end=\"\")\n",
    "    print()\n",
    "  print()\n",
    "\n",
    "\n",
    "print_matrix(w)\n",
    "print_matrix(f)\n",
    "floyd_warshall(w, f)\n",
    "print_matrix(w)\n",
    "print_matrix(f)\n",
    "  \n"
   ]
  },
  {
   "attachments": {
    "image.png": {
     "image/png": "[encoded data removed]"
    }
   },
   "cell_type": "markdown",
   "id": "83809fc8",
   "metadata": {},
   "source": [
    "# Binomial Koeffizient\n",
    "\n",
    "Berechnung des Binomialkoeffizienten durch ein Dynamisches Problem\n",
    "\n",
    "![image.png](attachment:image.png)"
   ]
  },
  {
   "cell_type": "code",
   "execution_count": 98,
   "id": "0f37482b",
   "metadata": {},
   "outputs": [
    {
     "name": "stdout",
     "output_type": "stream",
     "text": [
      "17310309456440\n"
     ]
    }
   ],
   "source": [
    "\n",
    "\n",
    "def coeff(n, k, cache={}):\n",
    "\n",
    "  key = tuple((n, k))\n",
    "  if key in cache:\n",
    "    return cache[key]\n",
    "\n",
    "  if k == 0 or n == k:\n",
    "    return 1\n",
    "  \n",
    "  val = coeff(n - 1, k - 1, cache) + coeff(n - 1, k, cache)\n",
    "\n",
    "  cache[tuple((n, k))] = val\n",
    "  \n",
    "  return val\n",
    "\n",
    "\n",
    "res = coeff(100,  10)\n",
    "\n",
    "print(res)"
   ]
  },
  {
   "attachments": {
    "image.png": {
     "image/png": "[encoded data removed]"
    }
   },
   "cell_type": "markdown",
   "id": "33613881",
   "metadata": {},
   "source": [
    "# Collatz-Folge\n",
    "\n",
    "Rekursive implementierung der Collatz Folge mit nutzung eines caches fuer die dynamische Problemloesung.\n",
    "\n",
    "![image.png](attachment:image.png)"
   ]
  },
  {
   "cell_type": "code",
   "execution_count": 111,
   "id": "a80cd6d1",
   "metadata": {},
   "outputs": [
    {
     "name": "stdout",
     "output_type": "stream",
     "text": [
      "[6, 3.0, 10.0, 5.0, 16.0, 8.0, 4.0, 2.0, 1.0, 4.0, 2.0, 1]\n"
     ]
    }
   ],
   "source": [
    "\n",
    "\n",
    "def collatz(n, arr, cache={}):\n",
    "  if n in cache:\n",
    "    return cache[n]\n",
    "\n",
    "  if n == 1:\n",
    "    cache[n] = [1]\n",
    "  \n",
    "  if n % 2 == 0: cache[n] = [n] + collatz(n / 2, arr, cache)\n",
    "  else: cache[n] = [n] + collatz(3 * n + 1, arr, cache)\n",
    "\n",
    "  return cache[n]\n",
    "\n",
    "res = collatz(6, [])\n",
    "\n",
    "print(res)"
   ]
  },
  {
   "cell_type": "markdown",
   "id": "aca977de",
   "metadata": {},
   "source": [
    "# Longest Increasing Substring\n",
    "\n",
    "\n",
    "Ziel ist es die groeste streng steigende Sub-Liste einer gegebenen Liste n zu finden.\n",
    "\n",
    "z.B. n = [10, 3, 7, 8, 2, 5, 6]\n",
    "\n",
    "Zwei moegliche aufsteigenden Teilfolgen sind:\n",
    "- 3, 7, 8 \n",
    "- 3, 5, 6\n",
    "\n",
    "Dies waeren in dem Beispiel auch die laengsten aufsteigenden Teilfolgen"
   ]
  },
  {
   "cell_type": "code",
   "execution_count": 146,
   "id": "f2a72cfb",
   "metadata": {},
   "outputs": [
    {
     "data": {
      "text/plain": [
       "[2, 5, 6, 8, 10, 12]"
      ]
     },
     "execution_count": 146,
     "metadata": {},
     "output_type": "execute_result"
    }
   ],
   "source": [
    "n = [10, 3, 7, 8, 2, 5, 6, 8, 10, 12]\n",
    "\n",
    "\n",
    "def valid_moves(curr_index):\n",
    "  moves = []\n",
    "  curr_value = -1 if curr_index == -1 else n[curr_index]\n",
    "\n",
    "  for i in range(curr_index + 1, len(n)):\n",
    "    if n[i] > curr_value:\n",
    "      moves.append(i)\n",
    "\n",
    "  return moves\n",
    "\n",
    "def lis(n, curr_index, cache={}):\n",
    "\n",
    "  if curr_index in cache:\n",
    "    return cache[curr_index]\n",
    "\n",
    "  if curr_index == len(n) - 1:\n",
    "    return [n[curr_index]]\n",
    "\n",
    "  max_sequence = []\n",
    "  for move in valid_moves(curr_index):\n",
    "    val = lis(n, move, cache)\n",
    "    if len(max_sequence) < len(val):\n",
    "      max_sequence = ([n[curr_index]] if curr_index != -1 else []) + val\n",
    "\n",
    "  cache[curr_index] = max_sequence\n",
    "\n",
    "  return max_sequence\n",
    "\n",
    "\n",
    "lis(n, -1)\n"
   ]
  },
  {
   "attachments": {
    "image.png": {
     "image/png": "[encoded data removed]"
    }
   },
   "cell_type": "markdown",
   "id": "eb98f6c5",
   "metadata": {},
   "source": [
    "# Largest Sum Continguous Subarray\n",
    "\n",
    "Ziel ist es das summiert groeste zusammenhaengende Subarray zu returnen.\n",
    "\n",
    "![image.png](attachment:image.png)"
   ]
  },
  {
   "cell_type": "code",
   "execution_count": null,
   "id": "964d0324",
   "metadata": {},
   "outputs": [
    {
     "name": "stdout",
     "output_type": "stream",
     "text": [
      "using cache for key = 17\n",
      "using cache for key = 16\n",
      "using cache for key = 27\n",
      "using cache for key = 15\n",
      "using cache for key = 26\n",
      "using cache for key = 37\n",
      "using cache for key = 14\n",
      "using cache for key = 25\n",
      "using cache for key = 36\n",
      "using cache for key = 47\n",
      "using cache for key = 13\n",
      "using cache for key = 24\n",
      "using cache for key = 35\n",
      "using cache for key = 46\n",
      "using cache for key = 57\n",
      "using cache for key = 12\n",
      "using cache for key = 23\n",
      "using cache for key = 34\n",
      "using cache for key = 45\n",
      "using cache for key = 56\n",
      "using cache for key = 67\n",
      "7\n"
     ]
    }
   ],
   "source": [
    "array = [-2, -3, 4, -1, -2, 1, 5, -3]\n",
    "\n",
    "\n",
    "\n",
    "def find_largest(start, end, cache={}):\n",
    "  key = str(start) + str(end)\n",
    "\n",
    "  if key in cache:\n",
    "    # print(f\"using cache for key = {key}\")\n",
    "    return cache[key]\n",
    "\n",
    "  val = 0\n",
    "  for x in range(start, end + 1):\n",
    "    val += array[x]\n",
    "  \n",
    "  if end < (len(array) - 1) and start < (len(array) - 1):\n",
    "    r1 = find_largest(start, end + 1, cache)\n",
    "    r2 = find_largest(start + 1, end + 1, cache)\n",
    "\n",
    "    val = max(val, r1)\n",
    "    val = max(val, r2)\n",
    "  cache[key] = val\n",
    "\n",
    "  return val\n",
    "\n",
    "res = find_largest(0, 0)\n",
    "\n",
    "print(res)\n"
   ]
  },
  {
   "cell_type": "code",
   "execution_count": null,
   "id": "93962967",
   "metadata": {},
   "outputs": [],
   "source": []
  }
 ],
 "metadata": {
  "kernelspec": {
   "display_name": "Python 3",
   "language": "python",
   "name": "python3"
  },
  "language_info": {
   "codemirror_mode": {
    "name": "ipython",
    "version": 3
   },
   "file_extension": ".py",
   "mimetype": "text/x-python",
   "name": "python",
   "nbconvert_exporter": "python",
   "pygments_lexer": "ipython3",
   "version": "3.13.5"
  }
 },
 "nbformat": 4,
 "nbformat_minor": 5
}
