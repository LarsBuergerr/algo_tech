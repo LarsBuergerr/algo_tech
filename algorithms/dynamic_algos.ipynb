{
 "cells": [
  {
   "cell_type": "markdown",
   "id": "251cb8b5",
   "metadata": {},
   "source": [
    "# Collection of dynamic programming algorithms implemented for the Lecture Algorithm Techniques SS25"
   ]
  },
  {
   "cell_type": "markdown",
   "id": "b23aa745",
   "metadata": {},
   "source": [
    "# Fibonacci Sequence\n",
    "\n",
    "Ziel ist es die Fibonacci Folge als dynamisches Programm zu implementieren\n",
    "\n",
    "\n",
    "Im folgenden Code Block wurden zum einen die rekursive Variante der Fibonacci Folge implementiert als auch die dynamische Variante ohne rekursion"
   ]
  },
  {
   "cell_type": "code",
   "execution_count": 30,
   "id": "641a0802",
   "metadata": {},
   "outputs": [
    {
     "name": "stdout",
     "output_type": "stream",
     "text": [
      "8\n"
     ]
    }
   ],
   "source": [
    "\n",
    "\n",
    "def fib_rec(n):\n",
    "\n",
    "  if n == 0:\n",
    "    return 0\n",
    "\n",
    "  if n == 1:\n",
    "    return 1\n",
    "  \n",
    "  return fib_rec(n - 1) + fib_rec(n - 2)\n",
    "\n",
    "\n",
    "res = fib_rec(6)\n",
    "\n",
    "\n",
    "def fib_dyn(n):\n",
    "  cache = [0, 1]\n",
    "  \n",
    "  for i in range(2, n + 1):\n",
    "    res = cache[0] + cache[1]\n",
    "    cache[0] = cache[1]\n",
    "    cache[1] = res\n",
    "\n",
    "  return cache[-1]\n",
    "\n",
    "res = fib_dyn(6)\n",
    "\n",
    "print(res)"
   ]
  },
  {
   "cell_type": "markdown",
   "id": "8cae82d8",
   "metadata": {},
   "source": [
    "# Climbing stairs\n",
    "\n",
    "(with help from a yt tutorial)\n",
    "\n",
    "You are climbing a staircase and it takes you n steps to reach the top you can either go 1 or 2 steps at a time. how many distinct ways can you climb to the top?"
   ]
  },
  {
   "cell_type": "code",
   "execution_count": null,
   "id": "b93b89fc",
   "metadata": {},
   "outputs": [],
   "source": [
    "\n",
    "\n",
    "cache = {}\n",
    "\n",
    "if 3 in cache.keys():\n",
    "  print(cache[3])\n",
    "\n",
    "\n",
    "def climb_stairs(n, cache={}):\n",
    "\n",
    "  print(cache)\n",
    "\n",
    "  if n in cache.keys():\n",
    "    return cache[n]\n",
    "\n",
    "  if n < 2:\n",
    "    return 1\n",
    "\n",
    "  answer = 0\n",
    "  for i in range(1, 3):\n",
    "\n",
    "    sub_problem = n - i\n",
    "\n",
    "    if (sub_problem) < 0:\n",
    "      continue\n",
    "\n",
    "    else:\n",
    "      answer += climb_stairs(sub_problem, cache)\n",
    "\n",
    "\n",
    "  print(\"here with n {} and answer {}\".format(n, answer))\n",
    "  cache[n] = answer\n",
    "  return answer\n",
    "\n",
    "\n",
    "res = climb_stairs(5)\n",
    "\n",
    "print(res)"
   ]
  },
  {
   "attachments": {
    "image.png": {
     "image/png": "[encoded data removed]"
    }
   },
   "cell_type": "markdown",
   "id": "a8ca8924",
   "metadata": {},
   "source": [
    "# Zahlen-Dreieck\n",
    "\n",
    "Gegeben sei ein Dreieck mit natürlichen Zahlen (siehe\n",
    "rechts) abgelegt ein einem n  n Feld a[][]. \\\n",
    "Ein Pfad in diesem Dreieck verläuft immer vom obersten Eintrag zu einem Eintrag in der letzten Zeile, wobei nur zu einem Feld\n",
    "direkt nach unten oder nach unten rechts gegangen werden\n",
    "kann. \\\n",
    "Gesucht ist ein Pfad in dem Dreieck mit maximaler Summe der besuchten Einträge. \\\n",
    "Beispiel: Ein Pfad mit maximaler Summe 346 ist in der unteren Abbildung fett dargestellt. \\\n",
    "Er geht über die Spalten 1, 2, 3, 3, 3, 4, 5\n",
    "\n",
    "![image.png](attachment:image.png)"
   ]
  },
  {
   "cell_type": "code",
   "execution_count": null,
   "id": "bb361274",
   "metadata": {},
   "outputs": [
    {
     "name": "stdout",
     "output_type": "stream",
     "text": [
      "current computation of (2, 1) is using cached cell (2, 1) value 14\n",
      "20\n"
     ]
    }
   ],
   "source": [
    "m = [\n",
    "  [10, -1, -1, -1, -1, -1, -1],\n",
    "  [82, 81, -1, -1, -1, -1, -1],\n",
    "  [4 ,  6, 10, -1, -1, -1, -1],\n",
    "  [2 , 14, 35,  7, -1, -1, -1],\n",
    "  [41,  3, 52, 26, 15, -1, -1],\n",
    "  [32, 90, 11, 87, 56, 23, -1],\n",
    "  [54, 65, 89, 32, 71,  9, 31],\n",
    "]\n",
    "\n",
    "m2 = [\n",
    "    [5, -1, -1],\n",
    "    [3, 8, -1],\n",
    "    [2, 4, 6]\n",
    "]\n",
    "\n",
    "m3 = [\n",
    "    [1],\n",
    "    [2, 3],\n",
    "    [4, 5, 6],\n",
    "    [7, 8, 9, 10]\n",
    "]\n",
    "\n",
    "def valid_turns(row, col):\n",
    "  return [\n",
    "      (row + 1, col),\n",
    "      (row + 1, col + 1)\n",
    "  ]\n",
    "\n",
    "\n",
    "def find_max(cell, m, cache={}):\n",
    "  row = cell[0]\n",
    "  col = cell[1]\n",
    "\n",
    "  val = m[row][col]\n",
    "  \n",
    "  if cell in cache:\n",
    "    print(\"current computation using cached cell {} value {}\".format(cell, cell, cache[cell]))\n",
    "    return cache[cell]\n",
    "\n",
    "\n",
    "  if row == len(m) - 1:\n",
    "    return val\n",
    "  \n",
    "  curr_max = 0 \n",
    "\n",
    "  for turn in valid_turns(row, col):\n",
    "\n",
    "    curr_max = max(find_max(turn, m, cache), curr_max)\n",
    "\n",
    "  cache[cell] = val + curr_max\n",
    "\n",
    "  return val + curr_max\n",
    "\n",
    "\n",
    "\n",
    "res = find_max((0, 0), m3)\n",
    "\n",
    "print(res)"
   ]
  },
  {
   "attachments": {
    "image.png": {
     "image/png": "[encoded data removed]"
    }
   },
   "cell_type": "markdown",
   "id": "2a80bbc3",
   "metadata": {},
   "source": [
    "# Catalan Numbers\n",
    "\n",
    "The goal is to return the calculated Catalan Number for a given N\n",
    "\n",
    "![image.png](attachment:image.png)\n",
    "\n"
   ]
  },
  {
   "cell_type": "code",
   "execution_count": null,
   "id": "b626a29a",
   "metadata": {},
   "outputs": [],
   "source": [
    "# penis lol\n",
    "\n",
    "\n",
    "\n",
    "def catalan(k, cache={}):\n",
    "  \n",
    "  if k in cache:\n",
    "    print(\"using cache for {}\".format(k))\n",
    "    return cache[k]\n",
    "\n",
    "  if k < 2:\n",
    "    return 1\n",
    "\n",
    "  res = 0\n",
    "  for i in range(k):\n",
    "    print(i)\n",
    "    res += catalan(i, cache) * catalan(k - 1 - i, cache)\n",
    "\n",
    "  cache[k] = res\n",
    "  return res\n",
    "\n",
    "n = 100 # this would take without the cache[k] = res cache saving inrcedibly long lul\n",
    "\n",
    "res = catalan(n)\n",
    "print(res)"
   ]
  },
  {
   "cell_type": "markdown",
   "id": "0fa17039",
   "metadata": {},
   "source": [
    "# Min Cost Climbing Stairs\n",
    "\n",
    "You are given an integer array cost where cost[i] is the cost of ith step on a staircase. Once you pay the cost, you can either climb one or two steps.\n",
    "\n",
    "You can either start from the step with index 0, or the step with index 1.\n",
    "\n",
    "Return the minimum cost to reach the top of the floor."
   ]
  },
  {
   "cell_type": "code",
   "execution_count": 34,
   "id": "c38c2770",
   "metadata": {},
   "outputs": [
    {
     "name": "stdout",
     "output_type": "stream",
     "text": [
      "6\n"
     ]
    }
   ],
   "source": [
    "cost = [1,100,1,1,1,100,1,1,100,1]\n",
    "\n",
    "def minCost(curr_step, cost, cache={}):\n",
    "  \n",
    "  if curr_step in cache: \n",
    "    return cache[curr_step]\n",
    "\n",
    "  step_cost = 0 if curr_step == -1 else cost[curr_step]\n",
    "\n",
    "  if len(cost) == 1:\n",
    "    return cost[0]\n",
    "\n",
    "  min_cost = 0\n",
    "  for i in range(1, 3):\n",
    "    if ((curr_step + i) < len(cost)):\n",
    "      min_cost = min(min_cost + max(cost) if min_cost == 0 else min_cost, minCost(curr_step + i, cost, cache))\n",
    "  cache[curr_step] = step_cost + min_cost\n",
    "\n",
    "\n",
    "  return cache[curr_step]\n",
    "\n",
    "\n",
    "\n",
    "\n",
    "res = minCost(-1, cost)\n",
    "\n",
    "print(res)\n",
    "\n"
   ]
  },
  {
   "attachments": {
    "image.png": {
     "image/png": "[encoded data removed]"
    }
   },
   "cell_type": "markdown",
   "id": "6a9a9b66",
   "metadata": {},
   "source": [
    "# 0/1 Knapsack Problem\n",
    "\n",
    "Ziel ist es den maximalen Wert von n items in einen begrenzt grosen rucksack zu packen. Wie zb siehe unten.\n",
    "\n",
    "![image.png](attachment:image.png)"
   ]
  },
  {
   "cell_type": "code",
   "execution_count": 73,
   "id": "49fa89ee",
   "metadata": {},
   "outputs": [
    {
     "name": "stdout",
     "output_type": "stream",
     "text": [
      "1400\n"
     ]
    }
   ],
   "source": [
    "remaining_size = 10\n",
    "items = [0, 1, 2, 3, 4]\n",
    "\n",
    "item_value = [300, 200, 400, 500, 700]\n",
    "item_size  = [2, 1, 5, 3, 6]\n",
    "\n",
    "\n",
    "# tod reudig wtf\n",
    "def knap_sack(remaining_size, remaining_items, cache={}):\n",
    "    \n",
    "  key = str(remaining_size) + str(sorted(remaining_items))\n",
    "  if key in cache:\n",
    "    return cache[key]\n",
    "\n",
    "  if remaining_size <= 0 or not remaining_items:\n",
    "    return 0\n",
    "\n",
    "  val = 0\n",
    "  for item in remaining_items:\n",
    "    if item_size[item] <= remaining_size:\n",
    "      new_remaining = [x for x in remaining_items if x != item]\n",
    "\n",
    "      val = max(val, item_value[item] + knap_sack(remaining_size - item_size[item], new_remaining, cache))\n",
    "\n",
    "  cache[key] = val\n",
    "\n",
    "  return val\n",
    "\n",
    "res = knap_sack(remaining_size, items)\n",
    "print(res)\n"
   ]
  }
 ],
 "metadata": {
  "kernelspec": {
   "display_name": "Python 3",
   "language": "python",
   "name": "python3"
  },
  "language_info": {
   "codemirror_mode": {
    "name": "ipython",
    "version": 3
   },
   "file_extension": ".py",
   "mimetype": "text/x-python",
   "name": "python",
   "nbconvert_exporter": "python",
   "pygments_lexer": "ipython3",
   "version": "3.13.3"
  }
 },
 "nbformat": 4,
 "nbformat_minor": 5
}
